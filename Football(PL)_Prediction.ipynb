{
 "cells": [
  {
   "cell_type": "markdown",
   "id": "914643d4-5aaf-4887-8714-9b36787f6d4a",
   "metadata": {},
   "source": [
    "<h3 style=\"color:darkblue;\">Premier League Match Predictor - Machine Learning Approach</h3>"
   ]
  },
  {
   "cell_type": "markdown",
   "id": "d5d8671e-200a-444d-b329-4e22370416f3",
   "metadata": {},
   "source": [
    "<h4 style=\"color:darkred;\">Import libraries, download, load and a quick lookup of data</h4>"
   ]
  },
  {
   "cell_type": "code",
   "execution_count": 1,
   "id": "b9d6a246-2d21-42e1-a826-e39b7b51d1fa",
   "metadata": {},
   "outputs": [],
   "source": [
    "import pandas as pd\n",
    "import numpy as np\n",
    "from sklearn.model_selection import train_test_split\n",
    "from sklearn.ensemble import RandomForestClassifier, GradientBoostingClassifier\n",
    "from sklearn.linear_model import LogisticRegression\n",
    "from xgboost import XGBClassifier\n",
    "from sklearn.metrics import accuracy_score, classification_report"
   ]
  },
  {
   "cell_type": "code",
   "execution_count": 2,
   "id": "0ff4ca8f-eeba-4b06-a6ca-abb614a67388",
   "metadata": {},
   "outputs": [
    {
     "name": "stdout",
     "output_type": "stream",
     "text": [
      "Season 2324: 380 matches\n",
      "Season 2425: 380 matches\n",
      "Season 2526: 70 matches\n",
      "\n",
      "Total matches downloaded: 830\n",
      "Combined data saved as 'combined_seasons.csv'\n"
     ]
    }
   ],
   "source": [
    "# Download multiple Premier League seasons\n",
    "seasons = ['2324', '2425', '2526']  # Last 3 seasons\n",
    "all_data = []\n",
    "\n",
    "for season in seasons:\n",
    "    url = f\"https://www.football-data.co.uk/mmz4281/{season}/E0.csv\"\n",
    "    try:\n",
    "        df_season = pd.read_csv(url)\n",
    "        df_season['Season'] = season\n",
    "        all_data.append(df_season)\n",
    "        print(f\"Season {season}: {len(df_season)} matches\")\n",
    "    except:\n",
    "        print(f\"Season {season}: Failed to download\")\n",
    "\n",
    "# Combine all seasons\n",
    "df = pd.concat(all_data, ignore_index=True)\n",
    "print(f\"\\nTotal matches downloaded: {len(df)}\")\n",
    "\n",
    "# Save combined data\n",
    "df.to_csv('combined_seasons.csv', index=False)\n",
    "print(\"Combined data saved as 'combined_seasons.csv'\")"
   ]
  },
  {
   "cell_type": "code",
   "execution_count": 3,
   "id": "67601d4b-8504-405e-ac06-83ce73158d0a",
   "metadata": {},
   "outputs": [
    {
     "data": {
      "text/html": [
       "<div>\n",
       "<style scoped>\n",
       "    .dataframe tbody tr th:only-of-type {\n",
       "        vertical-align: middle;\n",
       "    }\n",
       "\n",
       "    .dataframe tbody tr th {\n",
       "        vertical-align: top;\n",
       "    }\n",
       "\n",
       "    .dataframe thead th {\n",
       "        text-align: right;\n",
       "    }\n",
       "</style>\n",
       "<table border=\"1\" class=\"dataframe\">\n",
       "  <thead>\n",
       "    <tr style=\"text-align: right;\">\n",
       "      <th></th>\n",
       "      <th>Div</th>\n",
       "      <th>Date</th>\n",
       "      <th>Time</th>\n",
       "      <th>HomeTeam</th>\n",
       "      <th>AwayTeam</th>\n",
       "      <th>FTHG</th>\n",
       "      <th>FTAG</th>\n",
       "      <th>FTR</th>\n",
       "      <th>HTHG</th>\n",
       "      <th>HTAG</th>\n",
       "      <th>...</th>\n",
       "      <th>BMGMCA</th>\n",
       "      <th>BVCH</th>\n",
       "      <th>BVCD</th>\n",
       "      <th>BVCA</th>\n",
       "      <th>CLCH</th>\n",
       "      <th>CLCD</th>\n",
       "      <th>CLCA</th>\n",
       "      <th>LBCH</th>\n",
       "      <th>LBCD</th>\n",
       "      <th>LBCA</th>\n",
       "    </tr>\n",
       "  </thead>\n",
       "  <tbody>\n",
       "    <tr>\n",
       "      <th>0</th>\n",
       "      <td>E0</td>\n",
       "      <td>11/08/2023</td>\n",
       "      <td>20:00</td>\n",
       "      <td>Burnley</td>\n",
       "      <td>Man City</td>\n",
       "      <td>0</td>\n",
       "      <td>3</td>\n",
       "      <td>A</td>\n",
       "      <td>0</td>\n",
       "      <td>2</td>\n",
       "      <td>...</td>\n",
       "      <td>NaN</td>\n",
       "      <td>NaN</td>\n",
       "      <td>NaN</td>\n",
       "      <td>NaN</td>\n",
       "      <td>NaN</td>\n",
       "      <td>NaN</td>\n",
       "      <td>NaN</td>\n",
       "      <td>NaN</td>\n",
       "      <td>NaN</td>\n",
       "      <td>NaN</td>\n",
       "    </tr>\n",
       "    <tr>\n",
       "      <th>1</th>\n",
       "      <td>E0</td>\n",
       "      <td>12/08/2023</td>\n",
       "      <td>12:30</td>\n",
       "      <td>Arsenal</td>\n",
       "      <td>Nott'm Forest</td>\n",
       "      <td>2</td>\n",
       "      <td>1</td>\n",
       "      <td>H</td>\n",
       "      <td>2</td>\n",
       "      <td>0</td>\n",
       "      <td>...</td>\n",
       "      <td>NaN</td>\n",
       "      <td>NaN</td>\n",
       "      <td>NaN</td>\n",
       "      <td>NaN</td>\n",
       "      <td>NaN</td>\n",
       "      <td>NaN</td>\n",
       "      <td>NaN</td>\n",
       "      <td>NaN</td>\n",
       "      <td>NaN</td>\n",
       "      <td>NaN</td>\n",
       "    </tr>\n",
       "    <tr>\n",
       "      <th>2</th>\n",
       "      <td>E0</td>\n",
       "      <td>12/08/2023</td>\n",
       "      <td>15:00</td>\n",
       "      <td>Bournemouth</td>\n",
       "      <td>West Ham</td>\n",
       "      <td>1</td>\n",
       "      <td>1</td>\n",
       "      <td>D</td>\n",
       "      <td>0</td>\n",
       "      <td>0</td>\n",
       "      <td>...</td>\n",
       "      <td>NaN</td>\n",
       "      <td>NaN</td>\n",
       "      <td>NaN</td>\n",
       "      <td>NaN</td>\n",
       "      <td>NaN</td>\n",
       "      <td>NaN</td>\n",
       "      <td>NaN</td>\n",
       "      <td>NaN</td>\n",
       "      <td>NaN</td>\n",
       "      <td>NaN</td>\n",
       "    </tr>\n",
       "    <tr>\n",
       "      <th>3</th>\n",
       "      <td>E0</td>\n",
       "      <td>12/08/2023</td>\n",
       "      <td>15:00</td>\n",
       "      <td>Brighton</td>\n",
       "      <td>Luton</td>\n",
       "      <td>4</td>\n",
       "      <td>1</td>\n",
       "      <td>H</td>\n",
       "      <td>1</td>\n",
       "      <td>0</td>\n",
       "      <td>...</td>\n",
       "      <td>NaN</td>\n",
       "      <td>NaN</td>\n",
       "      <td>NaN</td>\n",
       "      <td>NaN</td>\n",
       "      <td>NaN</td>\n",
       "      <td>NaN</td>\n",
       "      <td>NaN</td>\n",
       "      <td>NaN</td>\n",
       "      <td>NaN</td>\n",
       "      <td>NaN</td>\n",
       "    </tr>\n",
       "    <tr>\n",
       "      <th>4</th>\n",
       "      <td>E0</td>\n",
       "      <td>12/08/2023</td>\n",
       "      <td>15:00</td>\n",
       "      <td>Everton</td>\n",
       "      <td>Fulham</td>\n",
       "      <td>0</td>\n",
       "      <td>1</td>\n",
       "      <td>A</td>\n",
       "      <td>0</td>\n",
       "      <td>0</td>\n",
       "      <td>...</td>\n",
       "      <td>NaN</td>\n",
       "      <td>NaN</td>\n",
       "      <td>NaN</td>\n",
       "      <td>NaN</td>\n",
       "      <td>NaN</td>\n",
       "      <td>NaN</td>\n",
       "      <td>NaN</td>\n",
       "      <td>NaN</td>\n",
       "      <td>NaN</td>\n",
       "      <td>NaN</td>\n",
       "    </tr>\n",
       "  </tbody>\n",
       "</table>\n",
       "<p>5 rows × 163 columns</p>\n",
       "</div>"
      ],
      "text/plain": [
       "  Div        Date   Time     HomeTeam       AwayTeam  FTHG  FTAG FTR  HTHG  \\\n",
       "0  E0  11/08/2023  20:00      Burnley       Man City     0     3   A     0   \n",
       "1  E0  12/08/2023  12:30      Arsenal  Nott'm Forest     2     1   H     2   \n",
       "2  E0  12/08/2023  15:00  Bournemouth       West Ham     1     1   D     0   \n",
       "3  E0  12/08/2023  15:00     Brighton          Luton     4     1   H     1   \n",
       "4  E0  12/08/2023  15:00      Everton         Fulham     0     1   A     0   \n",
       "\n",
       "   HTAG  ... BMGMCA BVCH  BVCD  BVCA  CLCH  CLCD  CLCA  LBCH  LBCD  LBCA  \n",
       "0     2  ...    NaN  NaN   NaN   NaN   NaN   NaN   NaN   NaN   NaN   NaN  \n",
       "1     0  ...    NaN  NaN   NaN   NaN   NaN   NaN   NaN   NaN   NaN   NaN  \n",
       "2     0  ...    NaN  NaN   NaN   NaN   NaN   NaN   NaN   NaN   NaN   NaN  \n",
       "3     0  ...    NaN  NaN   NaN   NaN   NaN   NaN   NaN   NaN   NaN   NaN  \n",
       "4     0  ...    NaN  NaN   NaN   NaN   NaN   NaN   NaN   NaN   NaN   NaN  \n",
       "\n",
       "[5 rows x 163 columns]"
      ]
     },
     "execution_count": 3,
     "metadata": {},
     "output_type": "execute_result"
    }
   ],
   "source": [
    "# Load and preview the data\n",
    "df = pd.read_csv('combined_seasons.csv')\n",
    "df.head()"
   ]
  },
  {
   "cell_type": "code",
   "execution_count": 4,
   "id": "36041c59-05b0-43b8-8f42-90aaf5d1e7d7",
   "metadata": {},
   "outputs": [
    {
     "name": "stdout",
     "output_type": "stream",
     "text": [
      "Dataset shape: (830, 163)\n"
     ]
    }
   ],
   "source": [
    "print(f\"Dataset shape: {df.shape}\")"
   ]
  },
  {
   "cell_type": "code",
   "execution_count": 5,
   "id": "2ce706fe-6b5d-44a4-887a-af10b15f45b4",
   "metadata": {},
   "outputs": [
    {
     "name": "stdout",
     "output_type": "stream",
     "text": [
      "Dataset Columns: ['Div', 'Date', 'Time', 'HomeTeam', 'AwayTeam', 'FTHG', 'FTAG', 'FTR', 'HTHG', 'HTAG', 'HTR', 'Referee', 'HS', 'AS', 'HST', 'AST', 'HF', 'AF', 'HC', 'AC', 'HY', 'AY', 'HR', 'AR', 'B365H', 'B365D', 'B365A', 'BWH', 'BWD', 'BWA', 'IWH', 'IWD', 'IWA', 'PSH', 'PSD', 'PSA', 'WHH', 'WHD', 'WHA', 'VCH', 'VCD', 'VCA', 'MaxH', 'MaxD', 'MaxA', 'AvgH', 'AvgD', 'AvgA', 'B365>2.5', 'B365<2.5', 'P>2.5', 'P<2.5', 'Max>2.5', 'Max<2.5', 'Avg>2.5', 'Avg<2.5', 'AHh', 'B365AHH', 'B365AHA', 'PAHH', 'PAHA', 'MaxAHH', 'MaxAHA', 'AvgAHH', 'AvgAHA', 'B365CH', 'B365CD', 'B365CA', 'BWCH', 'BWCD', 'BWCA', 'IWCH', 'IWCD', 'IWCA', 'PSCH', 'PSCD', 'PSCA', 'WHCH', 'WHCD', 'WHCA', 'VCCH', 'VCCD', 'VCCA', 'MaxCH', 'MaxCD', 'MaxCA', 'AvgCH', 'AvgCD', 'AvgCA', 'B365C>2.5', 'B365C<2.5', 'PC>2.5', 'PC<2.5', 'MaxC>2.5', 'MaxC<2.5', 'AvgC>2.5', 'AvgC<2.5', 'AHCh', 'B365CAHH', 'B365CAHA', 'PCAHH', 'PCAHA', 'MaxCAHH', 'MaxCAHA', 'AvgCAHH', 'AvgCAHA', 'Season', 'BFH', 'BFD', 'BFA', '1XBH', '1XBD', '1XBA', 'BFEH', 'BFED', 'BFEA', 'BFE>2.5', 'BFE<2.5', 'BFEAHH', 'BFEAHA', 'BFCH', 'BFCD', 'BFCA', '1XBCH', '1XBCD', '1XBCA', 'BFECH', 'BFECD', 'BFECA', 'BFEC>2.5', 'BFEC<2.5', 'BFECAHH', 'BFECAHA', 'BFDH', 'BFDD', 'BFDA', 'BMGMH', 'BMGMD', 'BMGMA', 'BVH', 'BVD', 'BVA', 'CLH', 'CLD', 'CLA', 'LBH', 'LBD', 'LBA', 'BFDCH', 'BFDCD', 'BFDCA', 'BMGMCH', 'BMGMCD', 'BMGMCA', 'BVCH', 'BVCD', 'BVCA', 'CLCH', 'CLCD', 'CLCA', 'LBCH', 'LBCD', 'LBCA']\n"
     ]
    }
   ],
   "source": [
    "print(f\"Dataset Columns: {df.columns.tolist()}\")"
   ]
  },
  {
   "cell_type": "code",
   "execution_count": 6,
   "id": "7ce60e7a-9874-41b2-bb61-6784372c9324",
   "metadata": {},
   "outputs": [
    {
     "name": "stdout",
     "output_type": "stream",
     "text": [
      "<class 'pandas.core.frame.DataFrame'>\n",
      "RangeIndex: 830 entries, 0 to 829\n",
      "Columns: 163 entries, Div to LBCA\n",
      "dtypes: float64(138), int64(17), object(8)\n",
      "memory usage: 1.0+ MB\n"
     ]
    }
   ],
   "source": [
    "df.info()"
   ]
  },
  {
   "cell_type": "code",
   "execution_count": 7,
   "id": "760f3689-0676-463b-8409-48fe19c2fc17",
   "metadata": {},
   "outputs": [
    {
     "name": "stdout",
     "output_type": "stream",
     "text": [
      "Key columns we'll use:\n",
      "- HomeTeam: 25 unique teams\n",
      "- AwayTeam: 25 unique teams\n",
      "- FTHG (Full Time Home Goals): int64\n",
      "- FTAG (Full Time Away Goals): int64\n",
      "- FTR (Full Time Result): {'H': 364, 'A': 273, 'D': 193}\n"
     ]
    }
   ],
   "source": [
    "# Check key columns\n",
    "print(f\"Key columns we'll use:\")\n",
    "print(f\"- HomeTeam: {df['HomeTeam'].nunique()} unique teams\")\n",
    "print(f\"- AwayTeam: {df['AwayTeam'].nunique()} unique teams\")\n",
    "print(f\"- FTHG (Full Time Home Goals): {df['FTHG'].dtype}\")\n",
    "print(f\"- FTAG (Full Time Away Goals): {df['FTAG'].dtype}\")\n",
    "print(f\"- FTR (Full Time Result): {df['FTR'].value_counts().to_dict()}\")"
   ]
  },
  {
   "cell_type": "markdown",
   "id": "983e94fa-9a27-4441-88a5-fad521afecf3",
   "metadata": {},
   "source": [
    "<h4 style=\"color:darkred;\">Data Cleaning & Preparation</h4>"
   ]
  },
  {
   "cell_type": "code",
   "execution_count": 8,
   "id": "dfee7b36-c744-497a-b466-6e2542bfa02c",
   "metadata": {},
   "outputs": [
    {
     "name": "stdout",
     "output_type": "stream",
     "text": [
      "New shape after needed selection: (830, 6)\n"
     ]
    }
   ],
   "source": [
    "# Select only the needed columns\n",
    "columns_needed = ['Date', 'HomeTeam', 'AwayTeam', 'FTHG', 'FTAG', 'FTR']\n",
    "df = df[columns_needed]\n",
    "\n",
    "print(\"New shape after needed selection:\", df.shape)"
   ]
  },
  {
   "cell_type": "code",
   "execution_count": 9,
   "id": "8b81dee6-d2ae-4d62-8469-3ea6f9eab651",
   "metadata": {},
   "outputs": [
    {
     "name": "stdout",
     "output_type": "stream",
     "text": [
      "Missing values in each column:\n",
      "Date        0\n",
      "HomeTeam    0\n",
      "AwayTeam    0\n",
      "FTHG        0\n",
      "FTAG        0\n",
      "FTR         0\n",
      "dtype: int64\n"
     ]
    }
   ],
   "source": [
    "# Check for missing values in each column\n",
    "missing_values = df.isnull().sum()\n",
    "\n",
    "print(\"Missing values in each column:\")\n",
    "print(missing_values)"
   ]
  },
  {
   "cell_type": "code",
   "execution_count": 10,
   "id": "9aaa0ea7-0c31-420a-85ed-c42edc0a2142",
   "metadata": {},
   "outputs": [
    {
     "name": "stdout",
     "output_type": "stream",
     "text": [
      "New Data preview:\n",
      "        Date          HomeTeam        AwayTeam  FTHG  FTAG FTR\n",
      "0 2023-08-11           Burnley        Man City     0     3   A\n",
      "1 2023-08-12           Arsenal   Nott'm Forest     2     1   H\n",
      "2 2023-08-12       Bournemouth        West Ham     1     1   D\n",
      "3 2023-08-12          Brighton           Luton     4     1   H\n",
      "4 2023-08-12           Everton          Fulham     0     1   A\n",
      "5 2023-08-12  Sheffield United  Crystal Palace     0     1   A\n",
      "6 2023-08-12         Newcastle     Aston Villa     5     1   H\n",
      "7 2023-08-13         Brentford       Tottenham     2     2   D\n",
      "8 2023-08-13           Chelsea       Liverpool     1     1   D\n",
      "9 2023-08-14        Man United          Wolves     1     0   H\n"
     ]
    }
   ],
   "source": [
    "# Convert Date to datetime\n",
    "df['Date'] = pd.to_datetime(df['Date'], format='%d/%m/%Y', errors='coerce')\n",
    "\n",
    "# Sort by date\n",
    "df = df.sort_values('Date').reset_index(drop=True)\n",
    "\n",
    "print(\"New Data preview:\")\n",
    "print(df.head(10))"
   ]
  },
  {
   "cell_type": "code",
   "execution_count": 11,
   "id": "79997071-6092-4cee-8d59-ae130422460d",
   "metadata": {},
   "outputs": [
    {
     "name": "stdout",
     "output_type": "stream",
     "text": [
      "Data types:\n",
      "Date        datetime64[ns]\n",
      "HomeTeam            object\n",
      "AwayTeam            object\n",
      "FTHG                 int64\n",
      "FTAG                 int64\n",
      "FTR                 object\n",
      "dtype: object\n"
     ]
    }
   ],
   "source": [
    "print(\"Data types:\")\n",
    "print(df.dtypes)"
   ]
  },
  {
   "cell_type": "code",
   "execution_count": 12,
   "id": "83317c22-acd7-4f4a-8507-ce2c3aded820",
   "metadata": {},
   "outputs": [
    {
     "name": "stdout",
     "output_type": "stream",
     "text": [
      "Full Time Result Distribution:\n",
      "FTR\n",
      "H    364\n",
      "A    273\n",
      "D    193\n",
      "Name: count, dtype: int64\n",
      "\n",
      "Date range:\n",
      "From: 2023-08-11 00:00:00 To 2025-10-05 00:00:00\n"
     ]
    }
   ],
   "source": [
    "print(\"Full Time Result Distribution:\")\n",
    "print(df['FTR'].value_counts())\n",
    "\n",
    "print(\"\\nDate range:\")\n",
    "print(f\"From: {df['Date'].min()} To {df['Date'].max()}\")"
   ]
  },
  {
   "cell_type": "markdown",
   "id": "d52d9b73-342d-45e7-b316-0f667822c8b9",
   "metadata": {},
   "source": [
    "<h4 style=\"color:darkred;\">Feature Engineering</h4>"
   ]
  },
  {
   "cell_type": "code",
   "execution_count": 13,
   "id": "bb526c39-3ebb-4bfb-ac3d-8bdfead99216",
   "metadata": {},
   "outputs": [
    {
     "name": "stdout",
     "output_type": "stream",
     "text": [
      "Dataset with features shape: (784, 12)\n",
      "\n",
      "Feature columns added:\n",
      "['Date', 'HomeTeam', 'AwayTeam', 'FTHG', 'FTAG', 'FTR', 'home_points_last5', 'home_goals_scored_last5', 'home_goals_conceded_last5', 'away_points_last5', 'away_goals_scored_last5', 'away_goals_conceded_last5']\n",
      "\n",
      "Sample with features:\n",
      "            HomeTeam        AwayTeam FTR  home_points_last5  away_points_last5\n",
      "30  Sheffield United         Everton   D                0.0                0.0\n",
      "31         Brentford     Bournemouth   D                5.0                1.0\n",
      "33           Chelsea   Nott'm Forest   A                4.0                3.0\n",
      "34          Man City          Fulham   H                9.0                4.0\n",
      "35          Brighton       Newcastle   H                6.0                3.0\n",
      "36           Arsenal      Man United   H                7.0                6.0\n",
      "37    Crystal Palace          Wolves   H                4.0                3.0\n",
      "38         Liverpool     Aston Villa   H                7.0                6.0\n",
      "39            Wolves       Liverpool   A                3.0               10.0\n",
      "40       Aston Villa  Crystal Palace   H                6.0                7.0\n"
     ]
    }
   ],
   "source": [
    "# Feature Engineering\n",
    "def add_form_features(df, n_matches=5):\n",
    "    \"\"\"Add team form features\"\"\"\n",
    "    df['home_points_last5'] = np.nan\n",
    "    df['home_goals_scored_last5'] = np.nan\n",
    "    df['home_goals_conceded_last5'] = np.nan\n",
    "    df['away_points_last5'] = np.nan\n",
    "    df['away_goals_scored_last5'] = np.nan\n",
    "    df['away_goals_conceded_last5'] = np.nan\n",
    "    \n",
    "    teams = pd.concat([df['HomeTeam'], df['AwayTeam']]).unique()\n",
    "    \n",
    "    for team in teams:\n",
    "        team_matches = df[(df['HomeTeam'] == team) | (df['AwayTeam'] == team)].index\n",
    "        \n",
    "        for idx in team_matches:\n",
    "            prev = df[((df['HomeTeam'] == team) | (df['AwayTeam'] == team)) & (df.index < idx)].tail(n_matches)\n",
    "            \n",
    "            if len(prev) < 3:\n",
    "                continue\n",
    "            \n",
    "            points = goals_for = goals_against = 0\n",
    "            \n",
    "            for _, match in prev.iterrows():\n",
    "                if match['HomeTeam'] == team:\n",
    "                    goals_for += match['FTHG']\n",
    "                    goals_against += match['FTAG']\n",
    "                    points += 3 if match['FTR'] == 'H' else (1 if match['FTR'] == 'D' else 0)\n",
    "                else:\n",
    "                    goals_for += match['FTAG']\n",
    "                    goals_against += match['FTHG']\n",
    "                    points += 3 if match['FTR'] == 'A' else (1 if match['FTR'] == 'D' else 0)\n",
    "            \n",
    "            if df.at[idx, 'HomeTeam'] == team:\n",
    "                df.at[idx, 'home_points_last5'] = points\n",
    "                df.at[idx, 'home_goals_scored_last5'] = goals_for\n",
    "                df.at[idx, 'home_goals_conceded_last5'] = goals_against\n",
    "            else:\n",
    "                df.at[idx, 'away_points_last5'] = points\n",
    "                df.at[idx, 'away_goals_scored_last5'] = goals_for\n",
    "                df.at[idx, 'away_goals_conceded_last5'] = goals_against\n",
    "    \n",
    "    return df.dropna()\n",
    "\n",
    "df_features = add_form_features(df)\n",
    "print(f\"Dataset with features shape: {df_features.shape}\")\n",
    "print(\"\\nFeature columns added:\")\n",
    "print(df_features.columns.tolist())\n",
    "print(\"\\nSample with features:\")\n",
    "print(df_features[['HomeTeam', 'AwayTeam', 'FTR', 'home_points_last5', 'away_points_last5']].head(10))"
   ]
  },
  {
   "cell_type": "code",
   "execution_count": 14,
   "id": "62110f79-9683-4ff1-be9c-d348bbc782c7",
   "metadata": {},
   "outputs": [
    {
     "name": "stdout",
     "output_type": "stream",
     "text": [
      "Final dataset: 784 matches\n",
      "Target distribution:\n",
      "FTR\n",
      "H    343\n",
      "A    256\n",
      "D    185\n",
      "Name: count, dtype: int64\n"
     ]
    }
   ],
   "source": [
    "# Prepare data\n",
    "feature_columns = [\n",
    "    'home_points_last5', 'home_goals_scored_last5', 'home_goals_conceded_last5',\n",
    "    'away_points_last5', 'away_goals_scored_last5', 'away_goals_conceded_last5'\n",
    "]\n",
    "\n",
    "X = df_features[feature_columns]\n",
    "y = df_features['FTR']\n",
    "\n",
    "# Encode target for XGBoost: H=0, D=1, A=2\n",
    "y_encoded = y.map({'H': 0, 'D': 1, 'A': 2})\n",
    "\n",
    "print(f\"Final dataset: {len(X)} matches\")\n",
    "print(f\"Target distribution:\\n{y.value_counts()}\")"
   ]
  },
  {
   "cell_type": "code",
   "execution_count": 16,
   "id": "3d7cf05a-e75e-4a75-959b-a2651e6c226f",
   "metadata": {},
   "outputs": [
    {
     "data": {
      "text/html": [
       "    <style>\n",
       "        .bk-notebook-logo {\n",
       "            display: block;\n",
       "            width: 20px;\n",
       "            height: 20px;\n",
       "            background-image: url(data:image/png;base64,iVBORw0KGgoAAAANSUhEUgAAABQAAAAUCAYAAACNiR0NAAAABHNCSVQICAgIfAhkiAAAAAlwSFlzAAALEgAACxIB0t1+/AAAABx0RVh0U29mdHdhcmUAQWRvYmUgRmlyZXdvcmtzIENTNui8sowAAAOkSURBVDiNjZRtaJVlGMd/1/08zzln5zjP1LWcU9N0NkN8m2CYjpgQYQXqSs0I84OLIC0hkEKoPtiH3gmKoiJDU7QpLgoLjLIQCpEsNJ1vqUOdO7ppbuec5+V+rj4ctwzd8IIbbi6u+8f1539dt3A78eXC7QizUF7gyV1fD1Yqg4JWz84yffhm0qkFqBogB9rM8tZdtwVsPUhWhGcFJngGeWrPzHm5oaMmkfEg1usvLFyc8jLRqDOMru7AyC8saQr7GG7f5fvDeH7Ej8CM66nIF+8yngt6HWaKh7k49Soy9nXurCi1o3qUbS3zWfrYeQDTB/Qj6kX6Ybhw4B+bOYoLKCC9H3Nu/leUTZ1JdRWkkn2ldcCamzrcf47KKXdAJllSlxAOkRgyHsGC/zRday5Qld9DyoM4/q/rUoy/CXh3jzOu3bHUVZeU+DEn8FInkPBFlu3+nW3Nw0mk6vCDiWg8CeJaxEwuHS3+z5RgY+YBR6V1Z1nxSOfoaPa4LASWxxdNp+VWTk7+4vzaou8v8PN+xo+KY2xsw6une2frhw05CTYOmQvsEhjhWjn0bmXPjpE1+kplmmkP3suftwTubK9Vq22qKmrBhpY4jvd5afdRA3wGjFAgcnTK2s4hY0/GPNIb0nErGMCRxWOOX64Z8RAC4oCXdklmEvcL8o0BfkNK4lUg9HTl+oPlQxdNo3Mg4Nv175e/1LDGzZen30MEjRUtmXSfiTVu1kK8W4txyV6BMKlbgk3lMwYCiusNy9fVfvvwMxv8Ynl6vxoByANLTWplvuj/nF9m2+PDtt1eiHPBr1oIfhCChQMBw6Aw0UulqTKZdfVvfG7VcfIqLG9bcldL/+pdWTLxLUy8Qq38heUIjh4XlzZxzQm19lLFlr8vdQ97rjZVOLf8nclzckbcD4wxXMidpX30sFd37Fv/GtwwhzhxGVAprjbg0gCAEeIgwCZyTV2Z1REEW8O4py0wsjeloKoMr6iCY6dP92H6Vw/oTyICIthibxjm/DfN9lVz8IqtqKYLUXfoKVMVQVVJOElGjrnnUt9T9wbgp8AyYKaGlqingHZU/uG2NTZSVqwHQTWkx9hxjkpWDaCg6Ckj5qebgBVbT3V3NNXMSiWSDdGV3hrtzla7J+duwPOToIg42ChPQOQjspnSlp1V+Gjdged7+8UN5CRAV7a5EdFNwCjEaBR27b3W890TE7g24NAP/mMDXRWrGoFPQI9ls/MWO2dWFAar/xcOIImbbpA3zgAAAABJRU5ErkJggg==);\n",
       "        }\n",
       "    </style>\n",
       "    <div>\n",
       "        <a href=\"https://bokeh.org\" target=\"_blank\" class=\"bk-notebook-logo\"></a>\n",
       "        <span id=\"f33a61f3-6379-4c2e-84c5-1333a78d0079\">Loading BokehJS ...</span>\n",
       "    </div>\n"
      ]
     },
     "metadata": {},
     "output_type": "display_data"
    },
    {
     "data": {
      "application/javascript": [
       "'use strict';\n",
       "(function(root) {\n",
       "  function now() {\n",
       "    return new Date();\n",
       "  }\n",
       "\n",
       "  const force = true;\n",
       "\n",
       "  if (typeof root._bokeh_onload_callbacks === \"undefined\" || force === true) {\n",
       "    root._bokeh_onload_callbacks = [];\n",
       "    root._bokeh_is_loading = undefined;\n",
       "  }\n",
       "\n",
       "const JS_MIME_TYPE = 'application/javascript';\n",
       "  const HTML_MIME_TYPE = 'text/html';\n",
       "  const EXEC_MIME_TYPE = 'application/vnd.bokehjs_exec.v0+json';\n",
       "  const CLASS_NAME = 'output_bokeh rendered_html';\n",
       "\n",
       "  /**\n",
       "   * Render data to the DOM node\n",
       "   */\n",
       "  function render(props, node) {\n",
       "    const script = document.createElement(\"script\");\n",
       "    node.appendChild(script);\n",
       "  }\n",
       "\n",
       "  /**\n",
       "   * Handle when an output is cleared or removed\n",
       "   */\n",
       "  function handleClearOutput(event, handle) {\n",
       "    function drop(id) {\n",
       "      const view = Bokeh.index.get_by_id(id)\n",
       "      if (view != null) {\n",
       "        view.model.document.clear()\n",
       "        Bokeh.index.delete(view)\n",
       "      }\n",
       "    }\n",
       "\n",
       "    const cell = handle.cell;\n",
       "\n",
       "    const id = cell.output_area._bokeh_element_id;\n",
       "    const server_id = cell.output_area._bokeh_server_id;\n",
       "\n",
       "    // Clean up Bokeh references\n",
       "    if (id != null) {\n",
       "      drop(id)\n",
       "    }\n",
       "\n",
       "    if (server_id !== undefined) {\n",
       "      // Clean up Bokeh references\n",
       "      const cmd_clean = \"from bokeh.io.state import curstate; print(curstate().uuid_to_server['\" + server_id + \"'].get_sessions()[0].document.roots[0]._id)\";\n",
       "      cell.notebook.kernel.execute(cmd_clean, {\n",
       "        iopub: {\n",
       "          output: function(msg) {\n",
       "            const id = msg.content.text.trim()\n",
       "            drop(id)\n",
       "          }\n",
       "        }\n",
       "      });\n",
       "      // Destroy server and session\n",
       "      const cmd_destroy = \"import bokeh.io.notebook as ion; ion.destroy_server('\" + server_id + \"')\";\n",
       "      cell.notebook.kernel.execute(cmd_destroy);\n",
       "    }\n",
       "  }\n",
       "\n",
       "  /**\n",
       "   * Handle when a new output is added\n",
       "   */\n",
       "  function handleAddOutput(event, handle) {\n",
       "    const output_area = handle.output_area;\n",
       "    const output = handle.output;\n",
       "\n",
       "    // limit handleAddOutput to display_data with EXEC_MIME_TYPE content only\n",
       "    if ((output.output_type != \"display_data\") || (!Object.prototype.hasOwnProperty.call(output.data, EXEC_MIME_TYPE))) {\n",
       "      return\n",
       "    }\n",
       "\n",
       "    const toinsert = output_area.element.find(\".\" + CLASS_NAME.split(' ')[0]);\n",
       "\n",
       "    if (output.metadata[EXEC_MIME_TYPE][\"id\"] !== undefined) {\n",
       "      toinsert[toinsert.length - 1].firstChild.textContent = output.data[JS_MIME_TYPE];\n",
       "      // store reference to embed id on output_area\n",
       "      output_area._bokeh_element_id = output.metadata[EXEC_MIME_TYPE][\"id\"];\n",
       "    }\n",
       "    if (output.metadata[EXEC_MIME_TYPE][\"server_id\"] !== undefined) {\n",
       "      const bk_div = document.createElement(\"div\");\n",
       "      bk_div.innerHTML = output.data[HTML_MIME_TYPE];\n",
       "      const script_attrs = bk_div.children[0].attributes;\n",
       "      for (let i = 0; i < script_attrs.length; i++) {\n",
       "        toinsert[toinsert.length - 1].firstChild.setAttribute(script_attrs[i].name, script_attrs[i].value);\n",
       "        toinsert[toinsert.length - 1].firstChild.textContent = bk_div.children[0].textContent\n",
       "      }\n",
       "      // store reference to server id on output_area\n",
       "      output_area._bokeh_server_id = output.metadata[EXEC_MIME_TYPE][\"server_id\"];\n",
       "    }\n",
       "  }\n",
       "\n",
       "  function register_renderer(events, OutputArea) {\n",
       "\n",
       "    function append_mime(data, metadata, element) {\n",
       "      // create a DOM node to render to\n",
       "      const toinsert = this.create_output_subarea(\n",
       "        metadata,\n",
       "        CLASS_NAME,\n",
       "        EXEC_MIME_TYPE\n",
       "      );\n",
       "      this.keyboard_manager.register_events(toinsert);\n",
       "      // Render to node\n",
       "      const props = {data: data, metadata: metadata[EXEC_MIME_TYPE]};\n",
       "      render(props, toinsert[toinsert.length - 1]);\n",
       "      element.append(toinsert);\n",
       "      return toinsert\n",
       "    }\n",
       "\n",
       "    /* Handle when an output is cleared or removed */\n",
       "    events.on('clear_output.CodeCell', handleClearOutput);\n",
       "    events.on('delete.Cell', handleClearOutput);\n",
       "\n",
       "    /* Handle when a new output is added */\n",
       "    events.on('output_added.OutputArea', handleAddOutput);\n",
       "\n",
       "    /**\n",
       "     * Register the mime type and append_mime function with output_area\n",
       "     */\n",
       "    OutputArea.prototype.register_mime_type(EXEC_MIME_TYPE, append_mime, {\n",
       "      /* Is output safe? */\n",
       "      safe: true,\n",
       "      /* Index of renderer in `output_area.display_order` */\n",
       "      index: 0\n",
       "    });\n",
       "  }\n",
       "\n",
       "  // register the mime type if in Jupyter Notebook environment and previously unregistered\n",
       "  if (root.Jupyter !== undefined) {\n",
       "    const events = require('base/js/events');\n",
       "    const OutputArea = require('notebook/js/outputarea').OutputArea;\n",
       "\n",
       "    if (OutputArea.prototype.mime_types().indexOf(EXEC_MIME_TYPE) == -1) {\n",
       "      register_renderer(events, OutputArea);\n",
       "    }\n",
       "  }\n",
       "  if (typeof (root._bokeh_timeout) === \"undefined\" || force === true) {\n",
       "    root._bokeh_timeout = Date.now() + 5000;\n",
       "    root._bokeh_failed_load = false;\n",
       "  }\n",
       "\n",
       "  const NB_LOAD_WARNING = {'data': {'text/html':\n",
       "     \"<div style='background-color: #fdd'>\\n\"+\n",
       "     \"<p>\\n\"+\n",
       "     \"BokehJS does not appear to have successfully loaded. If loading BokehJS from CDN, this \\n\"+\n",
       "     \"may be due to a slow or bad network connection. Possible fixes:\\n\"+\n",
       "     \"</p>\\n\"+\n",
       "     \"<ul>\\n\"+\n",
       "     \"<li>re-rerun `output_notebook()` to attempt to load from CDN again, or</li>\\n\"+\n",
       "     \"<li>use INLINE resources instead, as so:</li>\\n\"+\n",
       "     \"</ul>\\n\"+\n",
       "     \"<code>\\n\"+\n",
       "     \"from bokeh.resources import INLINE\\n\"+\n",
       "     \"output_notebook(resources=INLINE)\\n\"+\n",
       "     \"</code>\\n\"+\n",
       "     \"</div>\"}};\n",
       "\n",
       "  function display_loaded(error = null) {\n",
       "    const el = document.getElementById(\"f33a61f3-6379-4c2e-84c5-1333a78d0079\");\n",
       "    if (el != null) {\n",
       "      const html = (() => {\n",
       "        if (typeof root.Bokeh === \"undefined\") {\n",
       "          if (error == null) {\n",
       "            return \"BokehJS is loading ...\";\n",
       "          } else {\n",
       "            return \"BokehJS failed to load.\";\n",
       "          }\n",
       "        } else {\n",
       "          const prefix = `BokehJS ${root.Bokeh.version}`;\n",
       "          if (error == null) {\n",
       "            return `${prefix} successfully loaded.`;\n",
       "          } else {\n",
       "            return `${prefix} <b>encountered errors</b> while loading and may not function as expected.`;\n",
       "          }\n",
       "        }\n",
       "      })();\n",
       "      el.innerHTML = html;\n",
       "\n",
       "      if (error != null) {\n",
       "        const wrapper = document.createElement(\"div\");\n",
       "        wrapper.style.overflow = \"auto\";\n",
       "        wrapper.style.height = \"5em\";\n",
       "        wrapper.style.resize = \"vertical\";\n",
       "        const content = document.createElement(\"div\");\n",
       "        content.style.fontFamily = \"monospace\";\n",
       "        content.style.whiteSpace = \"pre-wrap\";\n",
       "        content.style.backgroundColor = \"rgb(255, 221, 221)\";\n",
       "        content.textContent = error.stack ?? error.toString();\n",
       "        wrapper.append(content);\n",
       "        el.append(wrapper);\n",
       "      }\n",
       "    } else if (Date.now() < root._bokeh_timeout) {\n",
       "      setTimeout(() => display_loaded(error), 100);\n",
       "    }\n",
       "  }\n",
       "\n",
       "  function run_callbacks() {\n",
       "    try {\n",
       "      root._bokeh_onload_callbacks.forEach(function(callback) {\n",
       "        if (callback != null)\n",
       "          callback();\n",
       "      });\n",
       "    } finally {\n",
       "      delete root._bokeh_onload_callbacks\n",
       "    }\n",
       "    console.debug(\"Bokeh: all callbacks have finished\");\n",
       "  }\n",
       "\n",
       "  function load_libs(css_urls, js_urls, callback) {\n",
       "    if (css_urls == null) css_urls = [];\n",
       "    if (js_urls == null) js_urls = [];\n",
       "\n",
       "    root._bokeh_onload_callbacks.push(callback);\n",
       "    if (root._bokeh_is_loading > 0) {\n",
       "      console.debug(\"Bokeh: BokehJS is being loaded, scheduling callback at\", now());\n",
       "      return null;\n",
       "    }\n",
       "    if (js_urls == null || js_urls.length === 0) {\n",
       "      run_callbacks();\n",
       "      return null;\n",
       "    }\n",
       "    console.debug(\"Bokeh: BokehJS not loaded, scheduling load and callback at\", now());\n",
       "    root._bokeh_is_loading = css_urls.length + js_urls.length;\n",
       "\n",
       "    function on_load() {\n",
       "      root._bokeh_is_loading--;\n",
       "      if (root._bokeh_is_loading === 0) {\n",
       "        console.debug(\"Bokeh: all BokehJS libraries/stylesheets loaded\");\n",
       "        run_callbacks()\n",
       "      }\n",
       "    }\n",
       "\n",
       "    function on_error(url) {\n",
       "      console.error(\"failed to load \" + url);\n",
       "    }\n",
       "\n",
       "    for (let i = 0; i < css_urls.length; i++) {\n",
       "      const url = css_urls[i];\n",
       "      const element = document.createElement(\"link\");\n",
       "      element.onload = on_load;\n",
       "      element.onerror = on_error.bind(null, url);\n",
       "      element.rel = \"stylesheet\";\n",
       "      element.type = \"text/css\";\n",
       "      element.href = url;\n",
       "      console.debug(\"Bokeh: injecting link tag for BokehJS stylesheet: \", url);\n",
       "      document.body.appendChild(element);\n",
       "    }\n",
       "\n",
       "    for (let i = 0; i < js_urls.length; i++) {\n",
       "      const url = js_urls[i];\n",
       "      const element = document.createElement('script');\n",
       "      element.onload = on_load;\n",
       "      element.onerror = on_error.bind(null, url);\n",
       "      element.async = false;\n",
       "      element.src = url;\n",
       "      console.debug(\"Bokeh: injecting script tag for BokehJS library: \", url);\n",
       "      document.head.appendChild(element);\n",
       "    }\n",
       "  };\n",
       "\n",
       "  function inject_raw_css(css) {\n",
       "    const element = document.createElement(\"style\");\n",
       "    element.appendChild(document.createTextNode(css));\n",
       "    document.body.appendChild(element);\n",
       "  }\n",
       "\n",
       "  const js_urls = [\"https://cdn.bokeh.org/bokeh/release/bokeh-3.6.0.min.js\", \"https://cdn.bokeh.org/bokeh/release/bokeh-gl-3.6.0.min.js\", \"https://cdn.bokeh.org/bokeh/release/bokeh-widgets-3.6.0.min.js\", \"https://cdn.bokeh.org/bokeh/release/bokeh-tables-3.6.0.min.js\", \"https://cdn.bokeh.org/bokeh/release/bokeh-mathjax-3.6.0.min.js\"];\n",
       "  const css_urls = [];\n",
       "\n",
       "  const inline_js = [    function(Bokeh) {\n",
       "      Bokeh.set_log_level(\"info\");\n",
       "    },\n",
       "function(Bokeh) {\n",
       "    }\n",
       "  ];\n",
       "\n",
       "  function run_inline_js() {\n",
       "    if (root.Bokeh !== undefined || force === true) {\n",
       "      try {\n",
       "            for (let i = 0; i < inline_js.length; i++) {\n",
       "      inline_js[i].call(root, root.Bokeh);\n",
       "    }\n",
       "\n",
       "      } catch (error) {display_loaded(error);throw error;\n",
       "      }if (force === true) {\n",
       "        display_loaded();\n",
       "      }} else if (Date.now() < root._bokeh_timeout) {\n",
       "      setTimeout(run_inline_js, 100);\n",
       "    } else if (!root._bokeh_failed_load) {\n",
       "      console.log(\"Bokeh: BokehJS failed to load within specified timeout.\");\n",
       "      root._bokeh_failed_load = true;\n",
       "    } else if (force !== true) {\n",
       "      const cell = $(document.getElementById(\"f33a61f3-6379-4c2e-84c5-1333a78d0079\")).parents('.cell').data().cell;\n",
       "      cell.output_area.append_execute_result(NB_LOAD_WARNING)\n",
       "    }\n",
       "  }\n",
       "\n",
       "  if (root._bokeh_is_loading === 0) {\n",
       "    console.debug(\"Bokeh: BokehJS loaded, going straight to plotting\");\n",
       "    run_inline_js();\n",
       "  } else {\n",
       "    load_libs(css_urls, js_urls, function() {\n",
       "      console.debug(\"Bokeh: BokehJS plotting callback run at\", now());\n",
       "      run_inline_js();\n",
       "    });\n",
       "  }\n",
       "}(window));"
      ],
      "application/vnd.bokehjs_load.v0+json": "'use strict';\n(function(root) {\n  function now() {\n    return new Date();\n  }\n\n  const force = true;\n\n  if (typeof root._bokeh_onload_callbacks === \"undefined\" || force === true) {\n    root._bokeh_onload_callbacks = [];\n    root._bokeh_is_loading = undefined;\n  }\n\n\n  if (typeof (root._bokeh_timeout) === \"undefined\" || force === true) {\n    root._bokeh_timeout = Date.now() + 5000;\n    root._bokeh_failed_load = false;\n  }\n\n  const NB_LOAD_WARNING = {'data': {'text/html':\n     \"<div style='background-color: #fdd'>\\n\"+\n     \"<p>\\n\"+\n     \"BokehJS does not appear to have successfully loaded. If loading BokehJS from CDN, this \\n\"+\n     \"may be due to a slow or bad network connection. Possible fixes:\\n\"+\n     \"</p>\\n\"+\n     \"<ul>\\n\"+\n     \"<li>re-rerun `output_notebook()` to attempt to load from CDN again, or</li>\\n\"+\n     \"<li>use INLINE resources instead, as so:</li>\\n\"+\n     \"</ul>\\n\"+\n     \"<code>\\n\"+\n     \"from bokeh.resources import INLINE\\n\"+\n     \"output_notebook(resources=INLINE)\\n\"+\n     \"</code>\\n\"+\n     \"</div>\"}};\n\n  function display_loaded(error = null) {\n    const el = document.getElementById(\"f33a61f3-6379-4c2e-84c5-1333a78d0079\");\n    if (el != null) {\n      const html = (() => {\n        if (typeof root.Bokeh === \"undefined\") {\n          if (error == null) {\n            return \"BokehJS is loading ...\";\n          } else {\n            return \"BokehJS failed to load.\";\n          }\n        } else {\n          const prefix = `BokehJS ${root.Bokeh.version}`;\n          if (error == null) {\n            return `${prefix} successfully loaded.`;\n          } else {\n            return `${prefix} <b>encountered errors</b> while loading and may not function as expected.`;\n          }\n        }\n      })();\n      el.innerHTML = html;\n\n      if (error != null) {\n        const wrapper = document.createElement(\"div\");\n        wrapper.style.overflow = \"auto\";\n        wrapper.style.height = \"5em\";\n        wrapper.style.resize = \"vertical\";\n        const content = document.createElement(\"div\");\n        content.style.fontFamily = \"monospace\";\n        content.style.whiteSpace = \"pre-wrap\";\n        content.style.backgroundColor = \"rgb(255, 221, 221)\";\n        content.textContent = error.stack ?? error.toString();\n        wrapper.append(content);\n        el.append(wrapper);\n      }\n    } else if (Date.now() < root._bokeh_timeout) {\n      setTimeout(() => display_loaded(error), 100);\n    }\n  }\n\n  function run_callbacks() {\n    try {\n      root._bokeh_onload_callbacks.forEach(function(callback) {\n        if (callback != null)\n          callback();\n      });\n    } finally {\n      delete root._bokeh_onload_callbacks\n    }\n    console.debug(\"Bokeh: all callbacks have finished\");\n  }\n\n  function load_libs(css_urls, js_urls, callback) {\n    if (css_urls == null) css_urls = [];\n    if (js_urls == null) js_urls = [];\n\n    root._bokeh_onload_callbacks.push(callback);\n    if (root._bokeh_is_loading > 0) {\n      console.debug(\"Bokeh: BokehJS is being loaded, scheduling callback at\", now());\n      return null;\n    }\n    if (js_urls == null || js_urls.length === 0) {\n      run_callbacks();\n      return null;\n    }\n    console.debug(\"Bokeh: BokehJS not loaded, scheduling load and callback at\", now());\n    root._bokeh_is_loading = css_urls.length + js_urls.length;\n\n    function on_load() {\n      root._bokeh_is_loading--;\n      if (root._bokeh_is_loading === 0) {\n        console.debug(\"Bokeh: all BokehJS libraries/stylesheets loaded\");\n        run_callbacks()\n      }\n    }\n\n    function on_error(url) {\n      console.error(\"failed to load \" + url);\n    }\n\n    for (let i = 0; i < css_urls.length; i++) {\n      const url = css_urls[i];\n      const element = document.createElement(\"link\");\n      element.onload = on_load;\n      element.onerror = on_error.bind(null, url);\n      element.rel = \"stylesheet\";\n      element.type = \"text/css\";\n      element.href = url;\n      console.debug(\"Bokeh: injecting link tag for BokehJS stylesheet: \", url);\n      document.body.appendChild(element);\n    }\n\n    for (let i = 0; i < js_urls.length; i++) {\n      const url = js_urls[i];\n      const element = document.createElement('script');\n      element.onload = on_load;\n      element.onerror = on_error.bind(null, url);\n      element.async = false;\n      element.src = url;\n      console.debug(\"Bokeh: injecting script tag for BokehJS library: \", url);\n      document.head.appendChild(element);\n    }\n  };\n\n  function inject_raw_css(css) {\n    const element = document.createElement(\"style\");\n    element.appendChild(document.createTextNode(css));\n    document.body.appendChild(element);\n  }\n\n  const js_urls = [\"https://cdn.bokeh.org/bokeh/release/bokeh-3.6.0.min.js\", \"https://cdn.bokeh.org/bokeh/release/bokeh-gl-3.6.0.min.js\", \"https://cdn.bokeh.org/bokeh/release/bokeh-widgets-3.6.0.min.js\", \"https://cdn.bokeh.org/bokeh/release/bokeh-tables-3.6.0.min.js\", \"https://cdn.bokeh.org/bokeh/release/bokeh-mathjax-3.6.0.min.js\"];\n  const css_urls = [];\n\n  const inline_js = [    function(Bokeh) {\n      Bokeh.set_log_level(\"info\");\n    },\nfunction(Bokeh) {\n    }\n  ];\n\n  function run_inline_js() {\n    if (root.Bokeh !== undefined || force === true) {\n      try {\n            for (let i = 0; i < inline_js.length; i++) {\n      inline_js[i].call(root, root.Bokeh);\n    }\n\n      } catch (error) {display_loaded(error);throw error;\n      }if (force === true) {\n        display_loaded();\n      }} else if (Date.now() < root._bokeh_timeout) {\n      setTimeout(run_inline_js, 100);\n    } else if (!root._bokeh_failed_load) {\n      console.log(\"Bokeh: BokehJS failed to load within specified timeout.\");\n      root._bokeh_failed_load = true;\n    } else if (force !== true) {\n      const cell = $(document.getElementById(\"f33a61f3-6379-4c2e-84c5-1333a78d0079\")).parents('.cell').data().cell;\n      cell.output_area.append_execute_result(NB_LOAD_WARNING)\n    }\n  }\n\n  if (root._bokeh_is_loading === 0) {\n    console.debug(\"Bokeh: BokehJS loaded, going straight to plotting\");\n    run_inline_js();\n  } else {\n    load_libs(css_urls, js_urls, function() {\n      console.debug(\"Bokeh: BokehJS plotting callback run at\", now());\n      run_inline_js();\n    });\n  }\n}(window));"
     },
     "metadata": {},
     "output_type": "display_data"
    }
   ],
   "source": [
    "from scipy.stats import chisquare\n",
    "from bokeh.plotting import figure, show\n",
    "from bokeh.io import output_notebook\n",
    "from bokeh.models import ColumnDataSource, FixedTicker, HoverTool\n",
    "from bokeh.layouts import column\n",
    "\n",
    "output_notebook()"
   ]
  },
  {
   "cell_type": "code",
   "execution_count": 17,
   "id": "4d1ed749-59fe-447b-85fc-f5ba821f4fa0",
   "metadata": {},
   "outputs": [
    {
     "name": "stdout",
     "output_type": "stream",
     "text": [
      "Chi-square Statistic: 47.92602040816327\n",
      "p-value: 3.917390795744035e-11\n",
      "\n",
      "Interpretation: Data is IMBALANCED\n"
     ]
    },
    {
     "data": {
      "text/html": [
       "\n",
       "  <div id=\"acfb505c-56ab-4380-8ad5-fe80a7d26fcf\" data-root-id=\"p1001\" style=\"display: contents;\"></div>\n"
      ]
     },
     "metadata": {},
     "output_type": "display_data"
    },
    {
     "data": {
      "application/javascript": [
       "(function(root) {\n",
       "  function embed_document(root) {\n",
       "  const docs_json = {\"be165afb-4033-44b2-8ba1-d5fd33976855\":{\"version\":\"3.6.0\",\"title\":\"Bokeh Application\",\"roots\":[{\"type\":\"object\",\"name\":\"Figure\",\"id\":\"p1001\",\"attributes\":{\"width\":700,\"height\":400,\"x_range\":{\"type\":\"object\",\"name\":\"FactorRange\",\"id\":\"p1011\",\"attributes\":{\"factors\":[\"Home Win\",\"Away Win\",\"Draw\"]}},\"y_range\":{\"type\":\"object\",\"name\":\"DataRange1d\",\"id\":\"p1003\"},\"x_scale\":{\"type\":\"object\",\"name\":\"CategoricalScale\",\"id\":\"p1012\"},\"y_scale\":{\"type\":\"object\",\"name\":\"LinearScale\",\"id\":\"p1013\"},\"title\":{\"type\":\"object\",\"name\":\"Title\",\"id\":\"p1004\",\"attributes\":{\"text\":\"Match Outcome Distribution\"}},\"renderers\":[{\"type\":\"object\",\"name\":\"GlyphRenderer\",\"id\":\"p1042\",\"attributes\":{\"data_source\":{\"type\":\"object\",\"name\":\"ColumnDataSource\",\"id\":\"p1036\",\"attributes\":{\"selected\":{\"type\":\"object\",\"name\":\"Selection\",\"id\":\"p1037\",\"attributes\":{\"indices\":[],\"line_indices\":[]}},\"selection_policy\":{\"type\":\"object\",\"name\":\"UnionRenderers\",\"id\":\"p1038\"},\"data\":{\"type\":\"map\",\"entries\":[[\"x\",[\"Home Win\",\"Away Win\",\"Draw\"]],[\"top\",[43.75,32.6530612244898,23.596938775510203]],[\"fill_color\",[\"#2ecc71\",\"#e74c3c\",\"#f39c12\"]],[\"hatch_color\",[\"#2ecc71\",\"#e74c3c\",\"#f39c12\"]],[\"line_color\",[\"#2ecc71\",\"#e74c3c\",\"#f39c12\"]]]}}},\"view\":{\"type\":\"object\",\"name\":\"CDSView\",\"id\":\"p1043\",\"attributes\":{\"filter\":{\"type\":\"object\",\"name\":\"AllIndices\",\"id\":\"p1044\"}}},\"glyph\":{\"type\":\"object\",\"name\":\"VBar\",\"id\":\"p1039\",\"attributes\":{\"x\":{\"type\":\"field\",\"field\":\"x\"},\"width\":{\"type\":\"value\",\"value\":0.6},\"top\":{\"type\":\"field\",\"field\":\"top\"},\"line_color\":{\"type\":\"field\",\"field\":\"line_color\"},\"fill_color\":{\"type\":\"field\",\"field\":\"fill_color\"},\"hatch_color\":{\"type\":\"field\",\"field\":\"hatch_color\"}}},\"nonselection_glyph\":{\"type\":\"object\",\"name\":\"VBar\",\"id\":\"p1040\",\"attributes\":{\"x\":{\"type\":\"field\",\"field\":\"x\"},\"width\":{\"type\":\"value\",\"value\":0.6},\"top\":{\"type\":\"field\",\"field\":\"top\"},\"line_color\":{\"type\":\"field\",\"field\":\"line_color\"},\"line_alpha\":{\"type\":\"value\",\"value\":0.1},\"fill_color\":{\"type\":\"field\",\"field\":\"fill_color\"},\"fill_alpha\":{\"type\":\"value\",\"value\":0.1},\"hatch_color\":{\"type\":\"field\",\"field\":\"hatch_color\"},\"hatch_alpha\":{\"type\":\"value\",\"value\":0.1}}},\"muted_glyph\":{\"type\":\"object\",\"name\":\"VBar\",\"id\":\"p1041\",\"attributes\":{\"x\":{\"type\":\"field\",\"field\":\"x\"},\"width\":{\"type\":\"value\",\"value\":0.6},\"top\":{\"type\":\"field\",\"field\":\"top\"},\"line_color\":{\"type\":\"field\",\"field\":\"line_color\"},\"line_alpha\":{\"type\":\"value\",\"value\":0.2},\"fill_color\":{\"type\":\"field\",\"field\":\"fill_color\"},\"fill_alpha\":{\"type\":\"value\",\"value\":0.2},\"hatch_color\":{\"type\":\"field\",\"field\":\"hatch_color\"},\"hatch_alpha\":{\"type\":\"value\",\"value\":0.2}}}}}],\"toolbar\":{\"type\":\"object\",\"name\":\"Toolbar\",\"id\":\"p1010\",\"attributes\":{\"tools\":[{\"type\":\"object\",\"name\":\"PanTool\",\"id\":\"p1024\"},{\"type\":\"object\",\"name\":\"WheelZoomTool\",\"id\":\"p1025\",\"attributes\":{\"renderers\":\"auto\"}},{\"type\":\"object\",\"name\":\"BoxZoomTool\",\"id\":\"p1026\",\"attributes\":{\"overlay\":{\"type\":\"object\",\"name\":\"BoxAnnotation\",\"id\":\"p1027\",\"attributes\":{\"syncable\":false,\"line_color\":\"black\",\"line_alpha\":1.0,\"line_width\":2,\"line_dash\":[4,4],\"fill_color\":\"lightgrey\",\"fill_alpha\":0.5,\"level\":\"overlay\",\"visible\":false,\"left\":{\"type\":\"number\",\"value\":\"nan\"},\"right\":{\"type\":\"number\",\"value\":\"nan\"},\"top\":{\"type\":\"number\",\"value\":\"nan\"},\"bottom\":{\"type\":\"number\",\"value\":\"nan\"},\"left_units\":\"canvas\",\"right_units\":\"canvas\",\"top_units\":\"canvas\",\"bottom_units\":\"canvas\",\"handles\":{\"type\":\"object\",\"name\":\"BoxInteractionHandles\",\"id\":\"p1033\",\"attributes\":{\"all\":{\"type\":\"object\",\"name\":\"AreaVisuals\",\"id\":\"p1032\",\"attributes\":{\"fill_color\":\"white\",\"hover_fill_color\":\"lightgray\"}}}}}}}},{\"type\":\"object\",\"name\":\"ResetTool\",\"id\":\"p1034\"},{\"type\":\"object\",\"name\":\"SaveTool\",\"id\":\"p1035\"}]}},\"left\":[{\"type\":\"object\",\"name\":\"LinearAxis\",\"id\":\"p1019\",\"attributes\":{\"ticker\":{\"type\":\"object\",\"name\":\"BasicTicker\",\"id\":\"p1020\",\"attributes\":{\"mantissas\":[1,2,5]}},\"formatter\":{\"type\":\"object\",\"name\":\"BasicTickFormatter\",\"id\":\"p1021\"},\"axis_label\":\"Percentage (%)\",\"major_label_policy\":{\"type\":\"object\",\"name\":\"AllLabels\",\"id\":\"p1022\"}}}],\"below\":[{\"type\":\"object\",\"name\":\"CategoricalAxis\",\"id\":\"p1014\",\"attributes\":{\"ticker\":{\"type\":\"object\",\"name\":\"CategoricalTicker\",\"id\":\"p1015\"},\"formatter\":{\"type\":\"object\",\"name\":\"CategoricalTickFormatter\",\"id\":\"p1016\"},\"axis_label\":\"Outcome\",\"major_label_policy\":{\"type\":\"object\",\"name\":\"AllLabels\",\"id\":\"p1017\"}}}],\"center\":[{\"type\":\"object\",\"name\":\"Grid\",\"id\":\"p1018\",\"attributes\":{\"axis\":{\"id\":\"p1014\"},\"grid_line_color\":null}},{\"type\":\"object\",\"name\":\"Grid\",\"id\":\"p1023\",\"attributes\":{\"dimension\":1,\"axis\":{\"id\":\"p1019\"}}}]}}]}};\n",
       "  const render_items = [{\"docid\":\"be165afb-4033-44b2-8ba1-d5fd33976855\",\"roots\":{\"p1001\":\"acfb505c-56ab-4380-8ad5-fe80a7d26fcf\"},\"root_ids\":[\"p1001\"]}];\n",
       "  void root.Bokeh.embed.embed_items_notebook(docs_json, render_items);\n",
       "  }\n",
       "  if (root.Bokeh !== undefined) {\n",
       "    embed_document(root);\n",
       "  } else {\n",
       "    let attempts = 0;\n",
       "    const timer = setInterval(function(root) {\n",
       "      if (root.Bokeh !== undefined) {\n",
       "        clearInterval(timer);\n",
       "        embed_document(root);\n",
       "      } else {\n",
       "        attempts++;\n",
       "        if (attempts > 100) {\n",
       "          clearInterval(timer);\n",
       "          console.log(\"Bokeh: ERROR: Unable to run BokehJS code because BokehJS library is missing\");\n",
       "        }\n",
       "      }\n",
       "    }, 10, root)\n",
       "  }\n",
       "})(window);"
      ],
      "application/vnd.bokehjs_exec.v0+json": ""
     },
     "metadata": {
      "application/vnd.bokehjs_exec.v0+json": {
       "id": "p1001"
      }
     },
     "output_type": "display_data"
    }
   ],
   "source": [
    "# Observed frequencies: Home Wins, Away Wins, Draws\n",
    "observed = [343, 256, 185]\n",
    "total_matches = sum(observed)\n",
    "\n",
    "# Expected frequencies if balanced\n",
    "expected = [total_matches / 3] * 3\n",
    "\n",
    "# Chi-square test\n",
    "chi2_stat, p_value = chisquare(f_obs=observed, f_exp=expected)\n",
    "\n",
    "print(\"Chi-square Statistic:\", chi2_stat)\n",
    "print(\"p-value:\", p_value)\n",
    "print(\"\\nInterpretation:\", \"Data is IMBALANCED\" if p_value < 0.05 else \"Data is balanced\")\n",
    "\n",
    "# Match Distribution\n",
    "categories = ['Home Win', 'Away Win', 'Draw']\n",
    "percentages = [(x/total_matches)*100 for x in observed]\n",
    "\n",
    "p = figure(x_range=categories, width=700, height=400, \n",
    "           title=\"Match Outcome Distribution\",\n",
    "           toolbar_location=\"right\", tools=\"pan,wheel_zoom,box_zoom,reset,save\")\n",
    "\n",
    "p.vbar(x=categories, top=percentages, width=0.6, color=['#2ecc71', '#e74c3c', '#f39c12'])\n",
    "\n",
    "p.xaxis.axis_label = \"Outcome\"\n",
    "p.yaxis.axis_label = \"Percentage (%)\"\n",
    "p.xgrid.grid_line_color = None\n",
    "\n",
    "show(p)"
   ]
  },
  {
   "cell_type": "markdown",
   "id": "2fa1ad9a-457f-4e0b-a3ed-8b2af90d12c5",
   "metadata": {},
   "source": [
    "**Interpretation:** The match outcome data is IMBALANCED. This means that home wins happen much more often than away wins or draws. This imbalance is common and expected in football because of **\"home advantage\"** (teams usually play better at home due to crowd support, familiarity, less travel, etc.)\n",
    "\n",
    "**Note:** This imbalance can affect the accuracy of prediction models."
   ]
  },
  {
   "cell_type": "markdown",
   "id": "21eefa4a-c737-4b9a-8295-83b544ab5014",
   "metadata": {},
   "source": [
    "<h4 style=\"color:darkred;\">Split-Train-Test</h4>"
   ]
  },
  {
   "cell_type": "code",
   "execution_count": 18,
   "id": "9f293017-44bc-44e6-a6be-2f9b8e6e8bd7",
   "metadata": {},
   "outputs": [
    {
     "name": "stdout",
     "output_type": "stream",
     "text": [
      "Training: 548 | Testing: 236\n"
     ]
    }
   ],
   "source": [
    "# Split: 70% train, 30% test\n",
    "X_train, X_test, y_train, y_test = train_test_split(\n",
    "    X, y_encoded, test_size=0.3, random_state=42, shuffle=True\n",
    ")\n",
    "\n",
    "print(f\"Training: {len(X_train)} | Testing: {len(X_test)}\")"
   ]
  },
  {
   "cell_type": "markdown",
   "id": "a7bca4b7-0b90-4c55-a600-02f47890119b",
   "metadata": {},
   "source": [
    "<h4 style=\"color:darkred;\">Define Models</h4>"
   ]
  },
  {
   "cell_type": "code",
   "execution_count": 19,
   "id": "2fc777be-235c-4a14-b942-3eeda1f053e5",
   "metadata": {},
   "outputs": [],
   "source": [
    "# Train 4 different models (all use encoded labels)\n",
    "models = {\n",
    "    'Random Forest': RandomForestClassifier(n_estimators=100, max_depth=10, random_state=42),\n",
    "    'Gradient Boosting': GradientBoostingClassifier(n_estimators=100, max_depth=5, random_state=42),\n",
    "    'Logistic Regression': LogisticRegression(max_iter=1000, random_state=42),\n",
    "    'XGBoost': XGBClassifier(n_estimators=100, max_depth=5, learning_rate=0.1, random_state=42, eval_metric='mlogloss')\n",
    "}\n",
    "results = {}\n",
    "label_map = {0: 'Home Win', 1: 'Draw', 2: 'Away Win'}"
   ]
  },
  {
   "cell_type": "markdown",
   "id": "5567191e-e587-48b5-88db-2b6c58864669",
   "metadata": {},
   "source": [
    "<h4 style=\"color:darkred;\">Evaluate Models</h4>"
   ]
  },
  {
   "cell_type": "code",
   "execution_count": 20,
   "id": "98eb0faa-b4e3-4bae-8336-ff4e81280164",
   "metadata": {},
   "outputs": [
    {
     "name": "stdout",
     "output_type": "stream",
     "text": [
      "Random Forest:\n",
      "----------------------------------------\n",
      "Accuracy: 50.85%\n",
      "Classification Report:\n",
      "              precision    recall  f1-score   support\n",
      "\n",
      "    Home Win       0.52      0.70      0.60       101\n",
      "        Draw       0.39      0.12      0.18        59\n",
      "    Away Win       0.52      0.55      0.54        76\n",
      "\n",
      "    accuracy                           0.51       236\n",
      "   macro avg       0.48      0.46      0.44       236\n",
      "weighted avg       0.49      0.51      0.47       236\n",
      "\n",
      "Gradient Boosting:\n",
      "----------------------------------------\n",
      "Accuracy: 44.07%\n",
      "Classification Report:\n",
      "              precision    recall  f1-score   support\n",
      "\n",
      "    Home Win       0.50      0.60      0.55       101\n",
      "        Draw       0.24      0.14      0.17        59\n",
      "    Away Win       0.44      0.46      0.45        76\n",
      "\n",
      "    accuracy                           0.44       236\n",
      "   macro avg       0.39      0.40      0.39       236\n",
      "weighted avg       0.41      0.44      0.42       236\n",
      "\n",
      "Logistic Regression:\n",
      "----------------------------------------\n",
      "Accuracy: 52.97%\n",
      "Classification Report:\n",
      "              precision    recall  f1-score   support\n",
      "\n",
      "    Home Win       0.53      0.77      0.63       101\n",
      "        Draw       0.00      0.00      0.00        59\n",
      "    Away Win       0.53      0.62      0.57        76\n",
      "\n",
      "    accuracy                           0.53       236\n",
      "   macro avg       0.35      0.46      0.40       236\n",
      "weighted avg       0.40      0.53      0.45       236\n",
      "\n",
      "XGBoost:\n",
      "----------------------------------------\n",
      "Accuracy: 50.42%\n",
      "Classification Report:\n",
      "              precision    recall  f1-score   support\n",
      "\n",
      "    Home Win       0.54      0.68      0.61       101\n",
      "        Draw       0.31      0.15      0.20        59\n",
      "    Away Win       0.51      0.54      0.53        76\n",
      "\n",
      "    accuracy                           0.50       236\n",
      "   macro avg       0.46      0.46      0.45       236\n",
      "weighted avg       0.48      0.50      0.48       236\n",
      "\n"
     ]
    }
   ],
   "source": [
    "for name, model in models.items():\n",
    "    print(f\"{name}:\")\n",
    "    print(\"-\" * 40)\n",
    "    \n",
    "    # Train\n",
    "    model.fit(X_train, y_train)\n",
    "    \n",
    "    # Predict\n",
    "    y_pred = model.predict(X_test)\n",
    "    \n",
    "    # Evaluate\n",
    "    accuracy = accuracy_score(y_test, y_pred)\n",
    "    results[name] = accuracy\n",
    "    \n",
    "    print(f\"Accuracy: {accuracy:.2%}\")\n",
    "    print(\"Classification Report:\")\n",
    "    print(classification_report(y_test, y_pred, target_names=['Home Win', 'Draw', 'Away Win'], zero_division=0))"
   ]
  },
  {
   "cell_type": "markdown",
   "id": "73d0713b-a22d-46be-8399-1b8f5314a46b",
   "metadata": {},
   "source": [
    "<h4 style=\"color:darkred;\">Compare Models Results</h4>"
   ]
  },
  {
   "cell_type": "code",
   "execution_count": 21,
   "id": "8bd58be7-9748-4c6b-bc17-395f536872da",
   "metadata": {},
   "outputs": [
    {
     "name": "stdout",
     "output_type": "stream",
     "text": [
      "Model Comparison Summary\n",
      "----------------------------------------\n",
      "Logistic Regression      : 52.97%\n",
      "Random Forest            : 50.85%\n",
      "XGBoost                  : 50.42%\n",
      "Gradient Boosting        : 44.07%\n",
      "\n",
      "Best Model: Logistic Regression (52.97%)\n"
     ]
    }
   ],
   "source": [
    "# Summary\n",
    "print(\"Model Comparison Summary\")\n",
    "print(\"-\"*40)\n",
    "for name, acc in sorted(results.items(), key=lambda x: x[1], reverse=True):\n",
    "    print(f\"{name:25s}: {acc:.2%}\")\n",
    "\n",
    "best_model_name = max(results, key=results.get)\n",
    "print(f\"\\nBest Model: {best_model_name} ({results[best_model_name]:.2%})\")"
   ]
  },
  {
   "cell_type": "markdown",
   "id": "91bc1adf-3744-4daf-a4d3-274d30100370",
   "metadata": {},
   "source": [
    "<h4 style=\"color:darkred;\">Match Predictions and Visuals</h4>"
   ]
  },
  {
   "cell_type": "code",
   "execution_count": 22,
   "id": "6fb3837b-1b8c-4bdf-8f37-93c1837eb729",
   "metadata": {},
   "outputs": [],
   "source": [
    "# Function to get team's recent form\n",
    "def get_team_form(df, team, n_matches=5):\n",
    "    \"\"\"Get team's last n matches statistics\"\"\"\n",
    "    team_matches = df[((df['HomeTeam'] == team) | (df['AwayTeam'] == team))].tail(n_matches)\n",
    "    \n",
    "    if len(team_matches) < 3:\n",
    "        return None\n",
    "    \n",
    "    points = goals_for = goals_against = 0\n",
    "    \n",
    "    for _, match in team_matches.iterrows():\n",
    "        if match['HomeTeam'] == team:\n",
    "            goals_for += match['FTHG']\n",
    "            goals_against += match['FTAG']\n",
    "            if match['FTR'] == 'H':\n",
    "                points += 3\n",
    "            elif match['FTR'] == 'D':\n",
    "                points += 1\n",
    "        else:\n",
    "            goals_for += match['FTAG']\n",
    "            goals_against += match['FTHG']\n",
    "            if match['FTR'] == 'A':\n",
    "                points += 3\n",
    "            elif match['FTR'] == 'D':\n",
    "                points += 1\n",
    "    \n",
    "    return {\n",
    "        'points': points,\n",
    "        'goals_scored': goals_for,\n",
    "        'goals_conceded': goals_against\n",
    "    }"
   ]
  },
  {
   "cell_type": "code",
   "execution_count": 23,
   "id": "ebf69f7d-f6e2-4919-b699-cf462d1d007d",
   "metadata": {},
   "outputs": [],
   "source": [
    "# Predict a match\n",
    "def predict_match(model, df, home_team, away_team):\n",
    "    \"\"\"Predict outcome of a match between two teams\"\"\"\n",
    "    \n",
    "    # Get form for both teams\n",
    "    home_form = get_team_form(df, home_team)\n",
    "    away_form = get_team_form(df, away_team)\n",
    "    \n",
    "    if home_form is None or away_form is None:\n",
    "        return \"Not enough data for prediction\"\n",
    "    \n",
    "    # Prepare features as DataFrame (to match training format)\n",
    "    feature_columns = [\n",
    "        'home_points_last5', \n",
    "        'home_goals_scored_last5', \n",
    "        'home_goals_conceded_last5',\n",
    "        'away_points_last5', \n",
    "        'away_goals_scored_last5', \n",
    "        'away_goals_conceded_last5'\n",
    "    ]\n",
    "    \n",
    "    features = pd.DataFrame([[\n",
    "        home_form['points'],\n",
    "        home_form['goals_scored'],\n",
    "        home_form['goals_conceded'],\n",
    "        away_form['points'],\n",
    "        away_form['goals_scored'],\n",
    "        away_form['goals_conceded']\n",
    "    ]], columns=feature_columns)\n",
    "    \n",
    "    # Get prediction probabilities\n",
    "    probabilities = model.predict_proba(features)[0]\n",
    "    prediction = model.predict(features)[0]\n",
    "    \n",
    "    # Map back to labels\n",
    "    outcome_map = {0: 'Home Win', 1: 'Draw', 2: 'Away Win'}\n",
    "    predicted_outcome = outcome_map[prediction]\n",
    "    \n",
    "    return {\n",
    "        'home_team': home_team,\n",
    "        'away_team': away_team,\n",
    "        'prediction': predicted_outcome,\n",
    "        'home_win_prob': probabilities[0] * 100,\n",
    "        'draw_prob': probabilities[1] * 100,\n",
    "        'away_win_prob': probabilities[2] * 100,\n",
    "        'home_form': home_form,\n",
    "        'away_form': away_form\n",
    "    }"
   ]
  },
  {
   "cell_type": "code",
   "execution_count": 24,
   "id": "3f4f4ecd-94f2-4814-ae01-a6a1ecc7ccee",
   "metadata": {},
   "outputs": [
    {
     "name": "stdout",
     "output_type": "stream",
     "text": [
      "Available teams: Arsenal, Aston Villa, Bournemouth, Brentford, Brighton, Burnley, Chelsea, Crystal Palace, Everton, Fulham... (showing first 10)\n",
      "\n",
      "Arsenal vs Aston Villa\n",
      "------------------------------\n",
      "Prediction: Home Win\n",
      "\n",
      "Probabilities:\n",
      "  Home Win: 52.0%\n",
      "  Draw:     25.7%\n",
      "  Away Win: 22.3%\n",
      "\n",
      "Team Form (Last 5 matches):\n",
      "  Arsenal: 10 pts, 8 GF, 3 GA\n",
      "  Aston Villa: 8 pts, 6 GF, 6 GA\n"
     ]
    }
   ],
   "source": [
    "# Get unique teams from dataset\n",
    "teams = sorted(df_features['HomeTeam'].unique())\n",
    "print(f\"Available teams: {', '.join(teams[:10])}... (showing first 10)\")\n",
    "\n",
    "# Predict a match (change teams as needed)\n",
    "home = teams[0]  # First team\n",
    "away = teams[1]  # Second team\n",
    "\n",
    "result = predict_match(models['Logistic Regression'], df_features, home, away)\n",
    "\n",
    "print(f\"\\n{result['home_team']} vs {result['away_team']}\")\n",
    "print(\"-\"*30)\n",
    "print(f\"Prediction: {result['prediction']}\")\n",
    "print(f\"\\nProbabilities:\")\n",
    "print(f\"  Home Win: {result['home_win_prob']:.1f}%\")\n",
    "print(f\"  Draw:     {result['draw_prob']:.1f}%\")\n",
    "print(f\"  Away Win: {result['away_win_prob']:.1f}%\")\n",
    "print(f\"\\nTeam Form (Last 5 matches):\")\n",
    "print(f\"  {result['home_team']}: {result['home_form']['points']} pts, {result['home_form']['goals_scored']} GF, {result['home_form']['goals_conceded']} GA\")\n",
    "print(f\"  {result['away_team']}: {result['away_form']['points']} pts, {result['away_form']['goals_scored']} GF, {result['away_form']['goals_conceded']} GA\")"
   ]
  },
  {
   "cell_type": "code",
   "execution_count": 25,
   "id": "912dc90f-2e9d-4874-87f4-3edf611308d6",
   "metadata": {},
   "outputs": [
    {
     "data": {
      "text/html": [
       "\n",
       "  <div id=\"a8459347-b9e6-44dc-95b5-0a19d5631e41\" data-root-id=\"p1048\" style=\"display: contents;\"></div>\n"
      ]
     },
     "metadata": {},
     "output_type": "display_data"
    },
    {
     "data": {
      "application/javascript": [
       "(function(root) {\n",
       "  function embed_document(root) {\n",
       "  const docs_json = {\"1c5dc4a2-6e16-4f2b-87bf-14b56511be43\":{\"version\":\"3.6.0\",\"title\":\"Bokeh Application\",\"roots\":[{\"type\":\"object\",\"name\":\"Figure\",\"id\":\"p1048\",\"attributes\":{\"width\":800,\"height\":350,\"x_range\":{\"type\":\"object\",\"name\":\"FactorRange\",\"id\":\"p1058\",\"attributes\":{\"factors\":[\"Home Win\",\"Draw\",\"Away Win\"]}},\"y_range\":{\"type\":\"object\",\"name\":\"DataRange1d\",\"id\":\"p1050\",\"attributes\":{\"start\":0,\"end\":100}},\"x_scale\":{\"type\":\"object\",\"name\":\"CategoricalScale\",\"id\":\"p1059\"},\"y_scale\":{\"type\":\"object\",\"name\":\"LinearScale\",\"id\":\"p1060\"},\"title\":{\"type\":\"object\",\"name\":\"Title\",\"id\":\"p1051\",\"attributes\":{\"text\":\"Arsenal vs Aston Villa - Prediction Probabilities\"}},\"renderers\":[{\"type\":\"object\",\"name\":\"GlyphRenderer\",\"id\":\"p1089\",\"attributes\":{\"data_source\":{\"type\":\"object\",\"name\":\"ColumnDataSource\",\"id\":\"p1045\",\"attributes\":{\"selected\":{\"type\":\"object\",\"name\":\"Selection\",\"id\":\"p1046\",\"attributes\":{\"indices\":[],\"line_indices\":[]}},\"selection_policy\":{\"type\":\"object\",\"name\":\"UnionRenderers\",\"id\":\"p1047\"},\"data\":{\"type\":\"map\",\"entries\":[[\"outcomes\",[\"Home Win\",\"Draw\",\"Away Win\"]],[\"probabilities\",[52.00811094834745,25.724148550926003,22.26774050072654]],[\"colors\",[\"#2ecc71\",\"#f39c12\",\"#e74c3c\"]]]}}},\"view\":{\"type\":\"object\",\"name\":\"CDSView\",\"id\":\"p1090\",\"attributes\":{\"filter\":{\"type\":\"object\",\"name\":\"AllIndices\",\"id\":\"p1091\"}}},\"glyph\":{\"type\":\"object\",\"name\":\"VBar\",\"id\":\"p1086\",\"attributes\":{\"x\":{\"type\":\"field\",\"field\":\"outcomes\"},\"width\":{\"type\":\"value\",\"value\":0.6},\"top\":{\"type\":\"field\",\"field\":\"probabilities\"},\"line_color\":{\"type\":\"field\",\"field\":\"colors\"},\"fill_color\":{\"type\":\"field\",\"field\":\"colors\"},\"hatch_color\":{\"type\":\"field\",\"field\":\"colors\"}}},\"nonselection_glyph\":{\"type\":\"object\",\"name\":\"VBar\",\"id\":\"p1087\",\"attributes\":{\"x\":{\"type\":\"field\",\"field\":\"outcomes\"},\"width\":{\"type\":\"value\",\"value\":0.6},\"top\":{\"type\":\"field\",\"field\":\"probabilities\"},\"line_color\":{\"type\":\"field\",\"field\":\"colors\"},\"line_alpha\":{\"type\":\"value\",\"value\":0.1},\"fill_color\":{\"type\":\"field\",\"field\":\"colors\"},\"fill_alpha\":{\"type\":\"value\",\"value\":0.1},\"hatch_color\":{\"type\":\"field\",\"field\":\"colors\"},\"hatch_alpha\":{\"type\":\"value\",\"value\":0.1}}},\"muted_glyph\":{\"type\":\"object\",\"name\":\"VBar\",\"id\":\"p1088\",\"attributes\":{\"x\":{\"type\":\"field\",\"field\":\"outcomes\"},\"width\":{\"type\":\"value\",\"value\":0.6},\"top\":{\"type\":\"field\",\"field\":\"probabilities\"},\"line_color\":{\"type\":\"field\",\"field\":\"colors\"},\"line_alpha\":{\"type\":\"value\",\"value\":0.2},\"fill_color\":{\"type\":\"field\",\"field\":\"colors\"},\"fill_alpha\":{\"type\":\"value\",\"value\":0.2},\"hatch_color\":{\"type\":\"field\",\"field\":\"colors\"},\"hatch_alpha\":{\"type\":\"value\",\"value\":0.2}}}}}],\"toolbar\":{\"type\":\"object\",\"name\":\"Toolbar\",\"id\":\"p1057\",\"attributes\":{\"tools\":[{\"type\":\"object\",\"name\":\"PanTool\",\"id\":\"p1071\"},{\"type\":\"object\",\"name\":\"WheelZoomTool\",\"id\":\"p1072\",\"attributes\":{\"renderers\":\"auto\"}},{\"type\":\"object\",\"name\":\"BoxZoomTool\",\"id\":\"p1073\",\"attributes\":{\"overlay\":{\"type\":\"object\",\"name\":\"BoxAnnotation\",\"id\":\"p1074\",\"attributes\":{\"syncable\":false,\"line_color\":\"black\",\"line_alpha\":1.0,\"line_width\":2,\"line_dash\":[4,4],\"fill_color\":\"lightgrey\",\"fill_alpha\":0.5,\"level\":\"overlay\",\"visible\":false,\"left\":{\"type\":\"number\",\"value\":\"nan\"},\"right\":{\"type\":\"number\",\"value\":\"nan\"},\"top\":{\"type\":\"number\",\"value\":\"nan\"},\"bottom\":{\"type\":\"number\",\"value\":\"nan\"},\"left_units\":\"canvas\",\"right_units\":\"canvas\",\"top_units\":\"canvas\",\"bottom_units\":\"canvas\",\"handles\":{\"type\":\"object\",\"name\":\"BoxInteractionHandles\",\"id\":\"p1080\",\"attributes\":{\"all\":{\"type\":\"object\",\"name\":\"AreaVisuals\",\"id\":\"p1079\",\"attributes\":{\"fill_color\":\"white\",\"hover_fill_color\":\"lightgray\"}}}}}}}},{\"type\":\"object\",\"name\":\"ResetTool\",\"id\":\"p1081\"},{\"type\":\"object\",\"name\":\"SaveTool\",\"id\":\"p1082\"}]}},\"left\":[{\"type\":\"object\",\"name\":\"LinearAxis\",\"id\":\"p1066\",\"attributes\":{\"ticker\":{\"type\":\"object\",\"name\":\"BasicTicker\",\"id\":\"p1067\",\"attributes\":{\"mantissas\":[1,2,5]}},\"formatter\":{\"type\":\"object\",\"name\":\"BasicTickFormatter\",\"id\":\"p1068\"},\"axis_label\":\"Probability (%)\",\"major_label_policy\":{\"type\":\"object\",\"name\":\"AllLabels\",\"id\":\"p1069\"}}}],\"below\":[{\"type\":\"object\",\"name\":\"CategoricalAxis\",\"id\":\"p1061\",\"attributes\":{\"ticker\":{\"type\":\"object\",\"name\":\"CategoricalTicker\",\"id\":\"p1062\"},\"formatter\":{\"type\":\"object\",\"name\":\"CategoricalTickFormatter\",\"id\":\"p1063\"},\"axis_label\":\"Outcome\",\"major_label_policy\":{\"type\":\"object\",\"name\":\"AllLabels\",\"id\":\"p1064\"}}}],\"center\":[{\"type\":\"object\",\"name\":\"Grid\",\"id\":\"p1065\",\"attributes\":{\"axis\":{\"id\":\"p1061\"},\"grid_line_color\":null}},{\"type\":\"object\",\"name\":\"Grid\",\"id\":\"p1070\",\"attributes\":{\"dimension\":1,\"axis\":{\"id\":\"p1066\"}}}]}}]}};\n",
       "  const render_items = [{\"docid\":\"1c5dc4a2-6e16-4f2b-87bf-14b56511be43\",\"roots\":{\"p1048\":\"a8459347-b9e6-44dc-95b5-0a19d5631e41\"},\"root_ids\":[\"p1048\"]}];\n",
       "  void root.Bokeh.embed.embed_items_notebook(docs_json, render_items);\n",
       "  }\n",
       "  if (root.Bokeh !== undefined) {\n",
       "    embed_document(root);\n",
       "  } else {\n",
       "    let attempts = 0;\n",
       "    const timer = setInterval(function(root) {\n",
       "      if (root.Bokeh !== undefined) {\n",
       "        clearInterval(timer);\n",
       "        embed_document(root);\n",
       "      } else {\n",
       "        attempts++;\n",
       "        if (attempts > 100) {\n",
       "          clearInterval(timer);\n",
       "          console.log(\"Bokeh: ERROR: Unable to run BokehJS code because BokehJS library is missing\");\n",
       "        }\n",
       "      }\n",
       "    }, 10, root)\n",
       "  }\n",
       "})(window);"
      ],
      "application/vnd.bokehjs_exec.v0+json": ""
     },
     "metadata": {
      "application/vnd.bokehjs_exec.v0+json": {
       "id": "p1048"
      }
     },
     "output_type": "display_data"
    }
   ],
   "source": [
    "# Prediction Probabilities\n",
    "outcomes = ['Home Win', 'Draw', 'Away Win']\n",
    "probabilities = [result['home_win_prob'], result['draw_prob'], result['away_win_prob']]\n",
    "colors = ['#2ecc71', '#f39c12', '#e74c3c']\n",
    "\n",
    "source = ColumnDataSource(data=dict(outcomes=outcomes, probabilities=probabilities, colors=colors))\n",
    "\n",
    "p1 = figure(x_range=outcomes, width=800, height=350, title=f\"{result['home_team']} vs {result['away_team']} - Prediction Probabilities\",\n",
    "           toolbar_location=\"right\", tools=\"pan,wheel_zoom,box_zoom,reset,save\")\n",
    "\n",
    "p1.vbar(x='outcomes', top='probabilities', width=0.6, color='colors', source=source)\n",
    "p1.y_range.start = 0\n",
    "p1.y_range.end = 100\n",
    "p1.xaxis.axis_label = \"Outcome\"\n",
    "p1.yaxis.axis_label = \"Probability (%)\"\n",
    "p1.xgrid.grid_line_color = None\n",
    "\n",
    "show(p1)"
   ]
  },
  {
   "cell_type": "code",
   "execution_count": 26,
   "id": "8963aa4e-59fb-40b6-a35d-4eeae32bd9c0",
   "metadata": {},
   "outputs": [
    {
     "data": {
      "text/html": [
       "\n",
       "  <div id=\"b914e62f-515c-432e-94ff-e887ff1f3d21\" data-root-id=\"p1092\" style=\"display: contents;\"></div>\n"
      ]
     },
     "metadata": {},
     "output_type": "display_data"
    },
    {
     "data": {
      "application/javascript": [
       "(function(root) {\n",
       "  function embed_document(root) {\n",
       "  const docs_json = {\"2d1cd112-868a-4a2c-855f-499f2009ecb7\":{\"version\":\"3.6.0\",\"title\":\"Bokeh Application\",\"roots\":[{\"type\":\"object\",\"name\":\"Figure\",\"id\":\"p1092\",\"attributes\":{\"width\":800,\"height\":350,\"x_range\":{\"type\":\"object\",\"name\":\"DataRange1d\",\"id\":\"p1093\"},\"y_range\":{\"type\":\"object\",\"name\":\"DataRange1d\",\"id\":\"p1094\"},\"x_scale\":{\"type\":\"object\",\"name\":\"LinearScale\",\"id\":\"p1102\"},\"y_scale\":{\"type\":\"object\",\"name\":\"LinearScale\",\"id\":\"p1103\"},\"title\":{\"type\":\"object\",\"name\":\"Title\",\"id\":\"p1095\",\"attributes\":{\"text\":\"Team Form Comparison (Last 5 matches)\"}},\"renderers\":[{\"type\":\"object\",\"name\":\"GlyphRenderer\",\"id\":\"p1132\",\"attributes\":{\"data_source\":{\"type\":\"object\",\"name\":\"ColumnDataSource\",\"id\":\"p1126\",\"attributes\":{\"selected\":{\"type\":\"object\",\"name\":\"Selection\",\"id\":\"p1127\",\"attributes\":{\"indices\":[],\"line_indices\":[]}},\"selection_policy\":{\"type\":\"object\",\"name\":\"UnionRenderers\",\"id\":\"p1128\"},\"data\":{\"type\":\"map\",\"entries\":[[\"x\",[-0.15,0.85,1.85]],[\"top\",[10,8,3]]]}}},\"view\":{\"type\":\"object\",\"name\":\"CDSView\",\"id\":\"p1133\",\"attributes\":{\"filter\":{\"type\":\"object\",\"name\":\"AllIndices\",\"id\":\"p1134\"}}},\"glyph\":{\"type\":\"object\",\"name\":\"VBar\",\"id\":\"p1129\",\"attributes\":{\"x\":{\"type\":\"field\",\"field\":\"x\"},\"width\":{\"type\":\"value\",\"value\":0.25},\"top\":{\"type\":\"field\",\"field\":\"top\"},\"line_color\":{\"type\":\"value\",\"value\":\"#3498db\"},\"fill_color\":{\"type\":\"value\",\"value\":\"#3498db\"},\"hatch_color\":{\"type\":\"value\",\"value\":\"#3498db\"}}},\"nonselection_glyph\":{\"type\":\"object\",\"name\":\"VBar\",\"id\":\"p1130\",\"attributes\":{\"x\":{\"type\":\"field\",\"field\":\"x\"},\"width\":{\"type\":\"value\",\"value\":0.25},\"top\":{\"type\":\"field\",\"field\":\"top\"},\"line_color\":{\"type\":\"value\",\"value\":\"#3498db\"},\"line_alpha\":{\"type\":\"value\",\"value\":0.1},\"fill_color\":{\"type\":\"value\",\"value\":\"#3498db\"},\"fill_alpha\":{\"type\":\"value\",\"value\":0.1},\"hatch_color\":{\"type\":\"value\",\"value\":\"#3498db\"},\"hatch_alpha\":{\"type\":\"value\",\"value\":0.1}}},\"muted_glyph\":{\"type\":\"object\",\"name\":\"VBar\",\"id\":\"p1131\",\"attributes\":{\"x\":{\"type\":\"field\",\"field\":\"x\"},\"width\":{\"type\":\"value\",\"value\":0.25},\"top\":{\"type\":\"field\",\"field\":\"top\"},\"line_color\":{\"type\":\"value\",\"value\":\"#3498db\"},\"line_alpha\":{\"type\":\"value\",\"value\":0.2},\"fill_color\":{\"type\":\"value\",\"value\":\"#3498db\"},\"fill_alpha\":{\"type\":\"value\",\"value\":0.2},\"hatch_color\":{\"type\":\"value\",\"value\":\"#3498db\"},\"hatch_alpha\":{\"type\":\"value\",\"value\":0.2}}}}},{\"type\":\"object\",\"name\":\"GlyphRenderer\",\"id\":\"p1143\",\"attributes\":{\"data_source\":{\"type\":\"object\",\"name\":\"ColumnDataSource\",\"id\":\"p1137\",\"attributes\":{\"selected\":{\"type\":\"object\",\"name\":\"Selection\",\"id\":\"p1138\",\"attributes\":{\"indices\":[],\"line_indices\":[]}},\"selection_policy\":{\"type\":\"object\",\"name\":\"UnionRenderers\",\"id\":\"p1139\"},\"data\":{\"type\":\"map\",\"entries\":[[\"x\",[0.15,1.15,2.15]],[\"top\",[8,6,6]]]}}},\"view\":{\"type\":\"object\",\"name\":\"CDSView\",\"id\":\"p1144\",\"attributes\":{\"filter\":{\"type\":\"object\",\"name\":\"AllIndices\",\"id\":\"p1145\"}}},\"glyph\":{\"type\":\"object\",\"name\":\"VBar\",\"id\":\"p1140\",\"attributes\":{\"x\":{\"type\":\"field\",\"field\":\"x\"},\"width\":{\"type\":\"value\",\"value\":0.25},\"top\":{\"type\":\"field\",\"field\":\"top\"},\"line_color\":{\"type\":\"value\",\"value\":\"#e74c3c\"},\"fill_color\":{\"type\":\"value\",\"value\":\"#e74c3c\"},\"hatch_color\":{\"type\":\"value\",\"value\":\"#e74c3c\"}}},\"nonselection_glyph\":{\"type\":\"object\",\"name\":\"VBar\",\"id\":\"p1141\",\"attributes\":{\"x\":{\"type\":\"field\",\"field\":\"x\"},\"width\":{\"type\":\"value\",\"value\":0.25},\"top\":{\"type\":\"field\",\"field\":\"top\"},\"line_color\":{\"type\":\"value\",\"value\":\"#e74c3c\"},\"line_alpha\":{\"type\":\"value\",\"value\":0.1},\"fill_color\":{\"type\":\"value\",\"value\":\"#e74c3c\"},\"fill_alpha\":{\"type\":\"value\",\"value\":0.1},\"hatch_color\":{\"type\":\"value\",\"value\":\"#e74c3c\"},\"hatch_alpha\":{\"type\":\"value\",\"value\":0.1}}},\"muted_glyph\":{\"type\":\"object\",\"name\":\"VBar\",\"id\":\"p1142\",\"attributes\":{\"x\":{\"type\":\"field\",\"field\":\"x\"},\"width\":{\"type\":\"value\",\"value\":0.25},\"top\":{\"type\":\"field\",\"field\":\"top\"},\"line_color\":{\"type\":\"value\",\"value\":\"#e74c3c\"},\"line_alpha\":{\"type\":\"value\",\"value\":0.2},\"fill_color\":{\"type\":\"value\",\"value\":\"#e74c3c\"},\"fill_alpha\":{\"type\":\"value\",\"value\":0.2},\"hatch_color\":{\"type\":\"value\",\"value\":\"#e74c3c\"},\"hatch_alpha\":{\"type\":\"value\",\"value\":0.2}}}}}],\"toolbar\":{\"type\":\"object\",\"name\":\"Toolbar\",\"id\":\"p1101\",\"attributes\":{\"tools\":[{\"type\":\"object\",\"name\":\"PanTool\",\"id\":\"p1114\"},{\"type\":\"object\",\"name\":\"WheelZoomTool\",\"id\":\"p1115\",\"attributes\":{\"renderers\":\"auto\"}},{\"type\":\"object\",\"name\":\"BoxZoomTool\",\"id\":\"p1116\",\"attributes\":{\"overlay\":{\"type\":\"object\",\"name\":\"BoxAnnotation\",\"id\":\"p1117\",\"attributes\":{\"syncable\":false,\"line_color\":\"black\",\"line_alpha\":1.0,\"line_width\":2,\"line_dash\":[4,4],\"fill_color\":\"lightgrey\",\"fill_alpha\":0.5,\"level\":\"overlay\",\"visible\":false,\"left\":{\"type\":\"number\",\"value\":\"nan\"},\"right\":{\"type\":\"number\",\"value\":\"nan\"},\"top\":{\"type\":\"number\",\"value\":\"nan\"},\"bottom\":{\"type\":\"number\",\"value\":\"nan\"},\"left_units\":\"canvas\",\"right_units\":\"canvas\",\"top_units\":\"canvas\",\"bottom_units\":\"canvas\",\"handles\":{\"type\":\"object\",\"name\":\"BoxInteractionHandles\",\"id\":\"p1123\",\"attributes\":{\"all\":{\"type\":\"object\",\"name\":\"AreaVisuals\",\"id\":\"p1122\",\"attributes\":{\"fill_color\":\"white\",\"hover_fill_color\":\"lightgray\"}}}}}}}},{\"type\":\"object\",\"name\":\"ResetTool\",\"id\":\"p1124\"},{\"type\":\"object\",\"name\":\"SaveTool\",\"id\":\"p1125\"}]}},\"left\":[{\"type\":\"object\",\"name\":\"LinearAxis\",\"id\":\"p1109\",\"attributes\":{\"ticker\":{\"type\":\"object\",\"name\":\"BasicTicker\",\"id\":\"p1110\",\"attributes\":{\"mantissas\":[1,2,5]}},\"formatter\":{\"type\":\"object\",\"name\":\"BasicTickFormatter\",\"id\":\"p1111\"},\"axis_label\":\"Value\",\"major_label_policy\":{\"type\":\"object\",\"name\":\"AllLabels\",\"id\":\"p1112\"}}}],\"below\":[{\"type\":\"object\",\"name\":\"LinearAxis\",\"id\":\"p1104\",\"attributes\":{\"ticker\":{\"type\":\"object\",\"name\":\"FixedTicker\",\"id\":\"p1147\",\"attributes\":{\"ticks\":[0,1,2],\"minor_ticks\":[]}},\"formatter\":{\"type\":\"object\",\"name\":\"BasicTickFormatter\",\"id\":\"p1106\"},\"axis_label\":\"Metric\",\"major_label_overrides\":{\"type\":\"map\",\"entries\":[[0,\"Points\"],[1,\"Goals Scored\"],[2,\"Goals Conceded\"]]},\"major_label_policy\":{\"type\":\"object\",\"name\":\"AllLabels\",\"id\":\"p1107\"}}}],\"center\":[{\"type\":\"object\",\"name\":\"Grid\",\"id\":\"p1108\",\"attributes\":{\"axis\":{\"id\":\"p1104\"},\"grid_line_color\":null}},{\"type\":\"object\",\"name\":\"Grid\",\"id\":\"p1113\",\"attributes\":{\"dimension\":1,\"axis\":{\"id\":\"p1109\"}}},{\"type\":\"object\",\"name\":\"Legend\",\"id\":\"p1135\",\"attributes\":{\"items\":[{\"type\":\"object\",\"name\":\"LegendItem\",\"id\":\"p1136\",\"attributes\":{\"label\":{\"type\":\"value\",\"value\":\"Arsenal\"},\"renderers\":[{\"id\":\"p1132\"}]}},{\"type\":\"object\",\"name\":\"LegendItem\",\"id\":\"p1146\",\"attributes\":{\"label\":{\"type\":\"value\",\"value\":\"Aston Villa\"},\"renderers\":[{\"id\":\"p1143\"}]}}]}}]}}]}};\n",
       "  const render_items = [{\"docid\":\"2d1cd112-868a-4a2c-855f-499f2009ecb7\",\"roots\":{\"p1092\":\"b914e62f-515c-432e-94ff-e887ff1f3d21\"},\"root_ids\":[\"p1092\"]}];\n",
       "  void root.Bokeh.embed.embed_items_notebook(docs_json, render_items);\n",
       "  }\n",
       "  if (root.Bokeh !== undefined) {\n",
       "    embed_document(root);\n",
       "  } else {\n",
       "    let attempts = 0;\n",
       "    const timer = setInterval(function(root) {\n",
       "      if (root.Bokeh !== undefined) {\n",
       "        clearInterval(timer);\n",
       "        embed_document(root);\n",
       "      } else {\n",
       "        attempts++;\n",
       "        if (attempts > 100) {\n",
       "          clearInterval(timer);\n",
       "          console.log(\"Bokeh: ERROR: Unable to run BokehJS code because BokehJS library is missing\");\n",
       "        }\n",
       "      }\n",
       "    }, 10, root)\n",
       "  }\n",
       "})(window);"
      ],
      "application/vnd.bokehjs_exec.v0+json": ""
     },
     "metadata": {
      "application/vnd.bokehjs_exec.v0+json": {
       "id": "p1092"
      }
     },
     "output_type": "display_data"
    }
   ],
   "source": [
    "# Team Form Comparison\n",
    "p2 = figure(width=800, height=350, title=\"Team Form Comparison (Last 5 matches)\",\n",
    "           toolbar_location=\"right\", tools=\"pan,wheel_zoom,box_zoom,reset,save\")\n",
    "\n",
    "x_positions = [0, 1, 2]  # Numeric positions for categories\n",
    "x_offset = [-0.15, 0.15]\n",
    "\n",
    "# Define team statistics\n",
    "home_stats = [result['home_form']['points'], result['home_form']['goals_scored'], result['home_form']['goals_conceded']]\n",
    "away_stats = [result['away_form']['points'], result['away_form']['goals_scored'], result['away_form']['goals_conceded']]\n",
    "\n",
    "teams_list = [result['home_team'], result['away_team']]\n",
    "stats_list = [home_stats, away_stats]\n",
    "colors_teams = ['#3498db', '#e74c3c']\n",
    "\n",
    "for i, (team, stats, color) in enumerate(zip(teams_list, stats_list, colors_teams)):\n",
    "    x_pos = [x + x_offset[i] for x in x_positions]\n",
    "    p2.vbar(x=x_pos, top=stats, width=0.25, color=color, legend_label=team)\n",
    "\n",
    "# Set custom x-axis labels\n",
    "p2.xaxis.ticker = FixedTicker(ticks=x_positions)\n",
    "p2.xaxis.major_label_overrides = {0: 'Points', 1: 'Goals Scored', 2: 'Goals Conceded'}\n",
    "p2.xaxis.axis_label = \"Metric\"\n",
    "p2.yaxis.axis_label = \"Value\"\n",
    "p2.legend.location = \"top_right\"\n",
    "p2.xgrid.grid_line_color = None\n",
    "\n",
    "show(p2)"
   ]
  },
  {
   "cell_type": "code",
   "execution_count": 27,
   "id": "fe7d6622-f7a0-4562-a19e-3ac8e99a9341",
   "metadata": {},
   "outputs": [
    {
     "data": {
      "text/html": [
       "\n",
       "  <div id=\"fda49d1c-c088-40bd-8725-ff53dcaf5078\" data-root-id=\"p1151\" style=\"display: contents;\"></div>\n"
      ]
     },
     "metadata": {},
     "output_type": "display_data"
    },
    {
     "data": {
      "application/javascript": [
       "(function(root) {\n",
       "  function embed_document(root) {\n",
       "  const docs_json = {\"e8fe86d5-fe09-482c-9a4b-bbc0af361110\":{\"version\":\"3.6.0\",\"title\":\"Bokeh Application\",\"roots\":[{\"type\":\"object\",\"name\":\"Figure\",\"id\":\"p1151\",\"attributes\":{\"width\":800,\"height\":350,\"x_range\":{\"type\":\"object\",\"name\":\"DataRange1d\",\"id\":\"p1153\",\"attributes\":{\"start\":0}},\"y_range\":{\"type\":\"object\",\"name\":\"FactorRange\",\"id\":\"p1161\",\"attributes\":{\"factors\":[\"Home Points\",\"Home Goals For\",\"Home Goals Against\",\"Away Points\",\"Away Goals For\",\"Away Goals Against\"]}},\"x_scale\":{\"type\":\"object\",\"name\":\"LinearScale\",\"id\":\"p1162\"},\"y_scale\":{\"type\":\"object\",\"name\":\"CategoricalScale\",\"id\":\"p1163\"},\"title\":{\"type\":\"object\",\"name\":\"Title\",\"id\":\"p1154\",\"attributes\":{\"text\":\"Feature Importance\"}},\"renderers\":[{\"type\":\"object\",\"name\":\"GlyphRenderer\",\"id\":\"p1192\",\"attributes\":{\"data_source\":{\"type\":\"object\",\"name\":\"ColumnDataSource\",\"id\":\"p1148\",\"attributes\":{\"selected\":{\"type\":\"object\",\"name\":\"Selection\",\"id\":\"p1149\",\"attributes\":{\"indices\":[],\"line_indices\":[]}},\"selection_policy\":{\"type\":\"object\",\"name\":\"UnionRenderers\",\"id\":\"p1150\"},\"data\":{\"type\":\"map\",\"entries\":[[\"features\",[\"Home Points\",\"Home Goals For\",\"Home Goals Against\",\"Away Points\",\"Away Goals For\",\"Away Goals Against\"]],[\"importance\",{\"type\":\"ndarray\",\"array\":{\"type\":\"bytes\",\"data\":\"YP4vb+DMpz/o1F4X2NOgP/kUaOD7ZJY/jA41aC2vlz/2NoYzj52bPzmrjOrCW7U/\"},\"shape\":[6],\"dtype\":\"float64\",\"order\":\"little\"}]]}}},\"view\":{\"type\":\"object\",\"name\":\"CDSView\",\"id\":\"p1193\",\"attributes\":{\"filter\":{\"type\":\"object\",\"name\":\"AllIndices\",\"id\":\"p1194\"}}},\"glyph\":{\"type\":\"object\",\"name\":\"HBar\",\"id\":\"p1189\",\"attributes\":{\"y\":{\"type\":\"field\",\"field\":\"features\"},\"height\":{\"type\":\"value\",\"value\":0.6},\"right\":{\"type\":\"field\",\"field\":\"importance\"},\"line_color\":{\"type\":\"value\",\"value\":\"#9b59b6\"},\"fill_color\":{\"type\":\"value\",\"value\":\"#9b59b6\"},\"hatch_color\":{\"type\":\"value\",\"value\":\"#9b59b6\"}}},\"nonselection_glyph\":{\"type\":\"object\",\"name\":\"HBar\",\"id\":\"p1190\",\"attributes\":{\"y\":{\"type\":\"field\",\"field\":\"features\"},\"height\":{\"type\":\"value\",\"value\":0.6},\"right\":{\"type\":\"field\",\"field\":\"importance\"},\"line_color\":{\"type\":\"value\",\"value\":\"#9b59b6\"},\"line_alpha\":{\"type\":\"value\",\"value\":0.1},\"fill_color\":{\"type\":\"value\",\"value\":\"#9b59b6\"},\"fill_alpha\":{\"type\":\"value\",\"value\":0.1},\"hatch_color\":{\"type\":\"value\",\"value\":\"#9b59b6\"},\"hatch_alpha\":{\"type\":\"value\",\"value\":0.1}}},\"muted_glyph\":{\"type\":\"object\",\"name\":\"HBar\",\"id\":\"p1191\",\"attributes\":{\"y\":{\"type\":\"field\",\"field\":\"features\"},\"height\":{\"type\":\"value\",\"value\":0.6},\"right\":{\"type\":\"field\",\"field\":\"importance\"},\"line_color\":{\"type\":\"value\",\"value\":\"#9b59b6\"},\"line_alpha\":{\"type\":\"value\",\"value\":0.2},\"fill_color\":{\"type\":\"value\",\"value\":\"#9b59b6\"},\"fill_alpha\":{\"type\":\"value\",\"value\":0.2},\"hatch_color\":{\"type\":\"value\",\"value\":\"#9b59b6\"},\"hatch_alpha\":{\"type\":\"value\",\"value\":0.2}}}}}],\"toolbar\":{\"type\":\"object\",\"name\":\"Toolbar\",\"id\":\"p1160\",\"attributes\":{\"tools\":[{\"type\":\"object\",\"name\":\"PanTool\",\"id\":\"p1174\"},{\"type\":\"object\",\"name\":\"WheelZoomTool\",\"id\":\"p1175\",\"attributes\":{\"renderers\":\"auto\"}},{\"type\":\"object\",\"name\":\"BoxZoomTool\",\"id\":\"p1176\",\"attributes\":{\"overlay\":{\"type\":\"object\",\"name\":\"BoxAnnotation\",\"id\":\"p1177\",\"attributes\":{\"syncable\":false,\"line_color\":\"black\",\"line_alpha\":1.0,\"line_width\":2,\"line_dash\":[4,4],\"fill_color\":\"lightgrey\",\"fill_alpha\":0.5,\"level\":\"overlay\",\"visible\":false,\"left\":{\"type\":\"number\",\"value\":\"nan\"},\"right\":{\"type\":\"number\",\"value\":\"nan\"},\"top\":{\"type\":\"number\",\"value\":\"nan\"},\"bottom\":{\"type\":\"number\",\"value\":\"nan\"},\"left_units\":\"canvas\",\"right_units\":\"canvas\",\"top_units\":\"canvas\",\"bottom_units\":\"canvas\",\"handles\":{\"type\":\"object\",\"name\":\"BoxInteractionHandles\",\"id\":\"p1183\",\"attributes\":{\"all\":{\"type\":\"object\",\"name\":\"AreaVisuals\",\"id\":\"p1182\",\"attributes\":{\"fill_color\":\"white\",\"hover_fill_color\":\"lightgray\"}}}}}}}},{\"type\":\"object\",\"name\":\"ResetTool\",\"id\":\"p1184\"},{\"type\":\"object\",\"name\":\"SaveTool\",\"id\":\"p1185\"}]}},\"left\":[{\"type\":\"object\",\"name\":\"CategoricalAxis\",\"id\":\"p1169\",\"attributes\":{\"ticker\":{\"type\":\"object\",\"name\":\"CategoricalTicker\",\"id\":\"p1170\"},\"formatter\":{\"type\":\"object\",\"name\":\"CategoricalTickFormatter\",\"id\":\"p1171\"},\"major_label_policy\":{\"type\":\"object\",\"name\":\"AllLabels\",\"id\":\"p1172\"}}}],\"below\":[{\"type\":\"object\",\"name\":\"LinearAxis\",\"id\":\"p1164\",\"attributes\":{\"ticker\":{\"type\":\"object\",\"name\":\"BasicTicker\",\"id\":\"p1165\",\"attributes\":{\"mantissas\":[1,2,5]}},\"formatter\":{\"type\":\"object\",\"name\":\"BasicTickFormatter\",\"id\":\"p1166\"},\"axis_label\":\"Importance\",\"major_label_policy\":{\"type\":\"object\",\"name\":\"AllLabels\",\"id\":\"p1167\"}}}],\"center\":[{\"type\":\"object\",\"name\":\"Grid\",\"id\":\"p1168\",\"attributes\":{\"axis\":{\"id\":\"p1164\"}}},{\"type\":\"object\",\"name\":\"Grid\",\"id\":\"p1173\",\"attributes\":{\"dimension\":1,\"axis\":{\"id\":\"p1169\"},\"grid_line_color\":null}}]}}]}};\n",
       "  const render_items = [{\"docid\":\"e8fe86d5-fe09-482c-9a4b-bbc0af361110\",\"roots\":{\"p1151\":\"fda49d1c-c088-40bd-8725-ff53dcaf5078\"},\"root_ids\":[\"p1151\"]}];\n",
       "  void root.Bokeh.embed.embed_items_notebook(docs_json, render_items);\n",
       "  }\n",
       "  if (root.Bokeh !== undefined) {\n",
       "    embed_document(root);\n",
       "  } else {\n",
       "    let attempts = 0;\n",
       "    const timer = setInterval(function(root) {\n",
       "      if (root.Bokeh !== undefined) {\n",
       "        clearInterval(timer);\n",
       "        embed_document(root);\n",
       "      } else {\n",
       "        attempts++;\n",
       "        if (attempts > 100) {\n",
       "          clearInterval(timer);\n",
       "          console.log(\"Bokeh: ERROR: Unable to run BokehJS code because BokehJS library is missing\");\n",
       "        }\n",
       "      }\n",
       "    }, 10, root)\n",
       "  }\n",
       "})(window);"
      ],
      "application/vnd.bokehjs_exec.v0+json": ""
     },
     "metadata": {
      "application/vnd.bokehjs_exec.v0+json": {
       "id": "p1151"
      }
     },
     "output_type": "display_data"
    }
   ],
   "source": [
    "# Feature Importance\n",
    "feature_names = ['Home Points', 'Home Goals For', 'Home Goals Against', \n",
    "                'Away Points', 'Away Goals For', 'Away Goals Against']\n",
    "importance = np.abs(models['Logistic Regression'].coef_[0])\n",
    "\n",
    "source_imp = ColumnDataSource(data=dict(features=feature_names, importance=importance))\n",
    "\n",
    "p3 = figure(y_range=feature_names, width=800, height=350, title=\"Feature Importance\",\n",
    "           toolbar_location=\"right\", tools=\"pan,wheel_zoom,box_zoom,reset,save\")\n",
    "\n",
    "p3.hbar(y='features', right='importance', height=0.6, color='#9b59b6', source=source_imp)\n",
    "p3.x_range.start = 0\n",
    "p3.xaxis.axis_label = \"Importance\"\n",
    "p3.ygrid.grid_line_color = None\n",
    "\n",
    "show(p3)"
   ]
  },
  {
   "cell_type": "markdown",
   "id": "e08749b4-6920-44be-be03-5f7694d6b8fb",
   "metadata": {},
   "source": [
    "**Observation:**\n",
    "- The models are not performing very well — accuracy is barely above random guessing.\n",
    "- This is likely because the match outcome data is IMBALANCED (more home wins than draws or away wins),\n",
    "- which can confuse models that expect a balanced set of outcomes.\n",
    "- If the model sees mostly home wins during training, it may learn to always predict home wins, missing important cases like draws or away wins, even when they do happen.\n",
    "\n",
    "**Solutions to Improve the Model:**\n",
    "- Use class weights in the models to reduce bias toward majority outcomes\n",
    "- Gather more match data, especially draws, possibly from multiple seasons\n",
    "- Use stratified sampling to make sure train/test sets reflect the real outcome distribution\n",
    "- Try resampling methods like SMOTE to generate synthetic examples of minority classes\n",
    "- Evaluate using F1-score (balances precision and recall), not just accuracy\n",
    "- Focus on predicting probabilities (e.g. 70% chance of home win), not just win/draw/loss"
   ]
  },
  {
   "cell_type": "code",
   "execution_count": null,
   "id": "9fe2b538-258c-4caa-baba-c63e49a2ff3e",
   "metadata": {},
   "outputs": [],
   "source": []
  }
 ],
 "metadata": {
  "kernelspec": {
   "display_name": "Python [conda env:base] *",
   "language": "python",
   "name": "conda-base-py"
  },
  "language_info": {
   "codemirror_mode": {
    "name": "ipython",
    "version": 3
   },
   "file_extension": ".py",
   "mimetype": "text/x-python",
   "name": "python",
   "nbconvert_exporter": "python",
   "pygments_lexer": "ipython3",
   "version": "3.12.7"
  }
 },
 "nbformat": 4,
 "nbformat_minor": 5
}
